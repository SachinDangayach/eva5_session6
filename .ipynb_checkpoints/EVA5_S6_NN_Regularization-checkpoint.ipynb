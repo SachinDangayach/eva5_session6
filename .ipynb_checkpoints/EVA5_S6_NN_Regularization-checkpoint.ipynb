{
 "cells": [
  {
   "cell_type": "markdown",
   "metadata": {
    "colab_type": "text",
    "id": "LIwnhDXX4TWP"
   },
   "source": [
    "## L1 Norm Implementation. \n",
    "\n",
    "### A. Target\n",
    "Take the last model (5th code), and run bellow versions for 25 epochs and report findings:\n",
    "\n",
    "*   with L1 + BN\n",
    "*   with L2 + BN\n",
    "*   with L1 and L2 with BN\n",
    "*   with with GBN\n",
    "*   with L1 and L2 with GBN\n",
    "\n",
    "### B. Results\n",
    "*   L1 + BN\n",
    "    1. Parameters: 9,912\n",
    "    2. Best Training Accuracy in 25 epochs: 99.28%\n",
    "    3. Best Test Accuracy in 25 epochs: 99.37%\n",
    "*   L2 + BN\n",
    "    1. Parameters: 9,912\n",
    "    2. Best Training Accuracy in 25 epochs: 99.27%\n",
    "    3. Best Test Accuracy in 25 epochs: 99.32%\n",
    "*   L1 + L2 + BN\n",
    "    1. Parameters: 9,912\n",
    "    2. Best Training Accuracy in 25 epochs: 99.31%\n",
    "    3. Best Test Accuracy in 25 epochs: 99.35%\n",
    "*   GBN\n",
    "    1. Parameters: 9,912\n",
    "    2. Best Training Accuracy in 25 epochs: 99.16%\n",
    "    3. Best Test Accuracy in 25 epochs: 99.38%\n",
    "*   L1 + L2 + GBN\n",
    "    1. Parameters: 9,912\n",
    "    2. Best Training Accuracy in 25 epochs: 99.25%\n",
    "    3. Best Test Accuracy in 25 epochs: 99.34%\n",
    "    \n",
    "### C. Analysis\n",
    "\n",
    "With the application of regularization, we try to modify the loss function slightly. Regularization helps to deal with the problem of overfitting. We tried 5 models here and the summary of the analysis is -\n",
    "\n",
    "*  L1+BN: We added the sum of weights as regularizer with lambda as 1e-6. Due to the effect of regularization the test and train accuracy gap got reduced though model coudn't reach to the earlier levels of above 99.40% accurcay\n",
    "*  L2+BN: We used the weight decay parameter in the optimizer function for L2 Norm which is sum of squares of weights. L2 didn't better than L1 as the value of decay parameter is not appropriate and could be explored further\n",
    "*  L1+L2+BN: L1 + L2 performed better than L2. The training accuracies shows L2 is more hard than L1 and L1+L2 combined\n",
    "*  GBN: We used split of 2 and batch size of 4. GBN gave best training accuracy as splitting the batches acts as a regularizer which leads to better training and resulting into better test accuracy\n",
    "*  L1+L2+GBN: The accurac gets reduced in comparision to GBN model but the model still performs better than other models\n"
   ]
  },
  {
   "cell_type": "code",
   "execution_count": 1,
   "metadata": {
    "colab": {
     "base_uri": "https://localhost:8080/",
     "height": 35
    },
    "colab_type": "code",
    "id": "sR249BGghr_u",
    "outputId": "faf54c9c-4aeb-4774-d85f-252aee148f47"
   },
   "outputs": [
    {
     "name": "stdout",
     "output_type": "stream",
     "text": [
      "Drive already mounted at /content/drive; to attempt to forcibly remount, call drive.mount(\"/content/drive\", force_remount=True).\n"
     ]
    }
   ],
   "source": [
    "from google.colab import drive\n",
    "drive.mount(\"/content/drive\")\n",
    "\n",
    "base_folder = 'drive/My Drive/eva5_stored_from_colab/s6/'\n",
    "acc_recorder_file = \"highest_accuracy_achieved\"\n",
    "model_file_name = \"reg_\""
   ]
  },
  {
   "cell_type": "code",
   "execution_count": 2,
   "metadata": {
    "colab": {},
    "colab_type": "code",
    "id": "atpgWpWU5Z3e"
   },
   "outputs": [],
   "source": [
    "from __future__ import print_function\n",
    "import torch\n",
    "import torch.nn as nn\n",
    "import torch.nn.functional as F\n",
    "import torch.optim as optim\n",
    "from torchvision import datasets, transforms\n",
    "\n",
    "from operator import itemgetter\n",
    "import time\n",
    "\n",
    "from tqdm import tqdm\n",
    "\n",
    "import matplotlib.pyplot as plt\n",
    "%matplotlib inline"
   ]
  },
  {
   "cell_type": "markdown",
   "metadata": {
    "colab_type": "text",
    "id": "fXovsuTs6Baq"
   },
   "source": [
    "#Set Transforms - Transform part of ETL\n",
    "Transforms are requried to convert the image data by applying various transformantions required. As of now, just convert image to tensor and normalize with whole dataset mean and standard deviation"
   ]
  },
  {
   "cell_type": "code",
   "execution_count": 3,
   "metadata": {
    "colab": {},
    "colab_type": "code",
    "id": "AQsODvjH6APK"
   },
   "outputs": [],
   "source": [
    "# Train Phase transformations\n",
    "train_transforms = transforms.Compose([\n",
    "                                       transforms.RandomRotation((-5.0, 5.0), fill=(1,)),\n",
    "                                       transforms.ToTensor(),\n",
    "                                       transforms.Normalize((0.1307,), (0.3081,)) # The mean and std have to be sequences (e.g., tuples), therefore you should add a comma after the values. \n",
    "                                       # Note the difference between (0.1307) and (0.1307,) as this is one channel image, we have added one tuple for mean and std each \n",
    "                                       ])\n",
    "\n",
    "# Test Phase transformations\n",
    "test_transforms = transforms.Compose([\n",
    "                                       transforms.ToTensor(),\n",
    "                                       transforms.Normalize((0.1307,), (0.3081,))\n",
    "                                       ])\n"
   ]
  },
  {
   "cell_type": "markdown",
   "metadata": {
    "colab_type": "text",
    "id": "ioFHtt6C9LNx"
   },
   "source": [
    "## Dataset and Creating Train/Test Split - Extract part of ETL"
   ]
  },
  {
   "cell_type": "code",
   "execution_count": 4,
   "metadata": {
    "colab": {},
    "colab_type": "code",
    "id": "5WCX3o5G9P_7"
   },
   "outputs": [],
   "source": [
    "train = datasets.MNIST('./data', train=True, download=True, transform=train_transforms)\n",
    "test = datasets.MNIST('./data', train=False, download=True, transform=test_transforms)"
   ]
  },
  {
   "cell_type": "markdown",
   "metadata": {
    "colab_type": "text",
    "id": "in_bUbu19xnG"
   },
   "source": [
    "# Dataloader Arguments & Test/Train Dataloaders - Load part of ETL"
   ]
  },
  {
   "cell_type": "code",
   "execution_count": 5,
   "metadata": {
    "colab": {
     "base_uri": "https://localhost:8080/",
     "height": 35
    },
    "colab_type": "code",
    "id": "1OM4cee190Vu",
    "outputId": "a3670d37-406e-464f-bd36-eee4c7ea1624"
   },
   "outputs": [
    {
     "name": "stdout",
     "output_type": "stream",
     "text": [
      "CUDA Available? True\n"
     ]
    }
   ],
   "source": [
    "SEED = 1\n",
    "\n",
    "# CUDA?\n",
    "cuda = torch.cuda.is_available()\n",
    "print(\"CUDA Available?\", cuda)\n",
    "\n",
    "# For reproducibility\n",
    "torch.manual_seed(SEED)\n",
    "\n",
    "if cuda:\n",
    "    torch.cuda.manual_seed(SEED)\n",
    "\n",
    "# dataloader arguments - something you'll fetch these from cmdprmt\n",
    "dataloader_args = dict(shuffle=True, batch_size=128, num_workers=4, pin_memory=True) if cuda else dict(shuffle=True, batch_size=64)\n",
    "\n",
    "# train dataloader\n",
    "train_loader = torch.utils.data.DataLoader(train, **dataloader_args)\n",
    "\n",
    "# test dataloader\n",
    "test_loader = torch.utils.data.DataLoader(test, **dataloader_args)"
   ]
  },
  {
   "cell_type": "markdown",
   "metadata": {
    "colab_type": "text",
    "id": "dddaoBLsfgea"
   },
   "source": [
    "# Model Architecture"
   ]
  },
  {
   "cell_type": "code",
   "execution_count": 6,
   "metadata": {
    "colab": {},
    "colab_type": "code",
    "id": "RpYCMrxMjIQM"
   },
   "outputs": [],
   "source": [
    "class BatchNorm(nn.BatchNorm2d):\n",
    "    def __init__(self, num_features, eps=1e-05, momentum=0.1, weight=True, bias=True):\n",
    "        super().__init__(num_features, eps=eps, momentum=momentum)\n",
    "        self.weight.data.fill_(1.0)\n",
    "        self.bias.data.fill_(0.0)\n",
    "        self.weight.requires_grad = weight\n",
    "        self.bias.requires_grad = bias\n",
    "\n",
    "class GhostBatchNorm(BatchNorm):\n",
    "    def __init__(self, num_features, num_splits, **kw):\n",
    "        super().__init__(num_features, **kw)\n",
    "        self.num_splits = num_splits\n",
    "        self.register_buffer('running_mean', torch.zeros(num_features * self.num_splits))\n",
    "        self.register_buffer('running_var', torch.ones(num_features * self.num_splits))\n",
    "\n",
    "    def train(self, mode=True):\n",
    "        if (self.training is True) and (mode is False):  # lazily collate stats when we are going to use them\n",
    "            self.running_mean = torch.mean(self.running_mean.view(self.num_splits, self.num_features), dim=0).repeat(\n",
    "                self.num_splits)\n",
    "            self.running_var = torch.mean(self.running_var.view(self.num_splits, self.num_features), dim=0).repeat(\n",
    "                self.num_splits)\n",
    "        return super().train(mode)\n",
    "\n",
    "    def forward(self, input):\n",
    "        N, C, H, W = input.shape\n",
    "        if self.training or not self.track_running_stats:\n",
    "            return F.batch_norm(\n",
    "                input.view(-1, C * self.num_splits, H, W), self.running_mean, self.running_var,\n",
    "                self.weight.repeat(self.num_splits), self.bias.repeat(self.num_splits),\n",
    "                True, self.momentum, self.eps).view(N, C, H, W)\n",
    "        else:\n",
    "            return F.batch_norm(\n",
    "                input, self.running_mean[:self.num_features], self.running_var[:self.num_features],\n",
    "                self.weight, self.bias, False, self.momentum, self.eps)"
   ]
  },
  {
   "cell_type": "code",
   "execution_count": 7,
   "metadata": {
    "colab": {},
    "colab_type": "code",
    "id": "x0HCEMYWflps"
   },
   "outputs": [],
   "source": [
    "import torch.nn.functional as F\n",
    "dropout_value = 0.1\n",
    "num_of_splits = 2\n",
    "class Net(nn.Module):\n",
    "    def __init__(self, is_gbn=False):\n",
    "        super(Net, self).__init__()\n",
    "        # Input Block\n",
    "        self.convblock1 = nn.Sequential(\n",
    "            nn.Conv2d(in_channels=1, out_channels=8, kernel_size=(3, 3), padding=0, bias=False),\n",
    "            nn.ReLU(),\n",
    "            nn.BatchNorm2d(8) if is_gbn == False else GhostBatchNorm(8,num_of_splits),\n",
    "            nn.Dropout(dropout_value)\n",
    "        ) # output_size = 26\n",
    "\n",
    "        # CONVOLUTION BLOCK 1\n",
    "        self.convblock2 = nn.Sequential(\n",
    "            nn.Conv2d(in_channels=8, out_channels=16, kernel_size=(3, 3), padding=1, bias=False),\n",
    "            nn.ReLU(),\n",
    "            nn.BatchNorm2d(16) if is_gbn == False else GhostBatchNorm(16,num_of_splits),\n",
    "            nn.Dropout(dropout_value)\n",
    "        ) # output_size = 26\n",
    "\n",
    "        # TRANSITION BLOCK 1\n",
    "        self.convblock3 = nn.Sequential(\n",
    "            nn.Conv2d(in_channels=16, out_channels=8, kernel_size=(1, 1), padding=0, bias=False),\n",
    "        ) # output_size = 26\n",
    "        self.pool1 = nn.MaxPool2d(2, 2) # output_size = 13\n",
    "\n",
    "        # CONVOLUTION BLOCK 2\n",
    "        self.convblock4 = nn.Sequential(\n",
    "            nn.Conv2d(in_channels=8, out_channels=16, kernel_size=(3, 3), padding=0, bias=False),\n",
    "            nn.ReLU(),            \n",
    "            nn.BatchNorm2d(16) if is_gbn == False else GhostBatchNorm(16,num_of_splits),\n",
    "            nn.Dropout(dropout_value)\n",
    "        ) # output_size = 11\n",
    "        self.convblock5 = nn.Sequential(\n",
    "            nn.Conv2d(in_channels=16, out_channels=16, kernel_size=(3, 3), padding=0, bias=False),\n",
    "            nn.ReLU(),            \n",
    "            nn.BatchNorm2d(16) if is_gbn == False else GhostBatchNorm(16,num_of_splits),\n",
    "            nn.Dropout(dropout_value)\n",
    "        ) # output_size = 9\n",
    "        self.convblock6 = nn.Sequential(\n",
    "            nn.Conv2d(in_channels=16, out_channels=32, kernel_size=(3, 3), padding=0, bias=False),\n",
    "            nn.ReLU(),            \n",
    "            nn.BatchNorm2d(32) if is_gbn == False else GhostBatchNorm(32,num_of_splits),\n",
    "            nn.Dropout(dropout_value)\n",
    "        ) # output_size = 7\n",
    "\n",
    "        # OUTPUT BLOCK\n",
    "        self.gap = nn.Sequential(\n",
    "            nn.AvgPool2d(kernel_size=7)\n",
    "        ) # output_size = 1\n",
    "\n",
    "        self.convblock7 = nn.Sequential(\n",
    "            nn.Conv2d(in_channels=32, out_channels=10, kernel_size=(1, 1), padding=0, bias=False),\n",
    "            # nn.BatchNorm2d(10),\n",
    "            # nn.ReLU(),\n",
    "            # nn.Dropout(dropout_value)\n",
    "        ) \n",
    "\n",
    "    def forward(self, x):\n",
    "        x = self.convblock1(x)\n",
    "        x = self.convblock2(x)\n",
    "        x = self.convblock3(x)\n",
    "        x = self.pool1(x)\n",
    "        x = self.convblock4(x)\n",
    "        x = self.convblock5(x)\n",
    "        x = self.convblock6(x)\n",
    "        x = self.gap(x)        \n",
    "        x = self.convblock7(x)\n",
    "\n",
    "        x = x.view(-1, 10)\n",
    "        return F.log_softmax(x, dim=-1)"
   ]
  },
  {
   "cell_type": "markdown",
   "metadata": {
    "colab_type": "text",
    "id": "FFA07XfVfuIk"
   },
   "source": [
    "# Model Summary"
   ]
  },
  {
   "cell_type": "code",
   "execution_count": 8,
   "metadata": {
    "colab": {
     "base_uri": "https://localhost:8080/",
     "height": 703
    },
    "colab_type": "code",
    "id": "C32KlmqHftZg",
    "outputId": "fa56036d-4fd8-4fda-b584-f48619f6fcd0"
   },
   "outputs": [
    {
     "name": "stdout",
     "output_type": "stream",
     "text": [
      "Requirement already satisfied: torchsummary in /usr/local/lib/python3.6/dist-packages (1.5.1)\n",
      "cuda\n",
      "----------------------------------------------------------------\n",
      "        Layer (type)               Output Shape         Param #\n",
      "================================================================\n",
      "            Conv2d-1            [-1, 8, 26, 26]              72\n",
      "              ReLU-2            [-1, 8, 26, 26]               0\n",
      "       BatchNorm2d-3            [-1, 8, 26, 26]              16\n",
      "           Dropout-4            [-1, 8, 26, 26]               0\n",
      "            Conv2d-5           [-1, 16, 26, 26]           1,152\n",
      "              ReLU-6           [-1, 16, 26, 26]               0\n",
      "       BatchNorm2d-7           [-1, 16, 26, 26]              32\n",
      "           Dropout-8           [-1, 16, 26, 26]               0\n",
      "            Conv2d-9            [-1, 8, 26, 26]             128\n",
      "        MaxPool2d-10            [-1, 8, 13, 13]               0\n",
      "           Conv2d-11           [-1, 16, 11, 11]           1,152\n",
      "             ReLU-12           [-1, 16, 11, 11]               0\n",
      "      BatchNorm2d-13           [-1, 16, 11, 11]              32\n",
      "          Dropout-14           [-1, 16, 11, 11]               0\n",
      "           Conv2d-15             [-1, 16, 9, 9]           2,304\n",
      "             ReLU-16             [-1, 16, 9, 9]               0\n",
      "      BatchNorm2d-17             [-1, 16, 9, 9]              32\n",
      "          Dropout-18             [-1, 16, 9, 9]               0\n",
      "           Conv2d-19             [-1, 32, 7, 7]           4,608\n",
      "             ReLU-20             [-1, 32, 7, 7]               0\n",
      "      BatchNorm2d-21             [-1, 32, 7, 7]              64\n",
      "          Dropout-22             [-1, 32, 7, 7]               0\n",
      "        AvgPool2d-23             [-1, 32, 1, 1]               0\n",
      "           Conv2d-24             [-1, 10, 1, 1]             320\n",
      "================================================================\n",
      "Total params: 9,912\n",
      "Trainable params: 9,912\n",
      "Non-trainable params: 0\n",
      "----------------------------------------------------------------\n",
      "Input size (MB): 0.00\n",
      "Forward/backward pass size (MB): 0.69\n",
      "Params size (MB): 0.04\n",
      "Estimated Total Size (MB): 0.73\n",
      "----------------------------------------------------------------\n"
     ]
    }
   ],
   "source": [
    "!pip install torchsummary\n",
    "from torchsummary import summary\n",
    "use_cuda = torch.cuda.is_available()\n",
    "device = torch.device(\"cuda\" if use_cuda else \"cpu\")\n",
    "print(device)\n",
    "model = Net().to(device)\n",
    "summary(model, input_size=(1, 28, 28))"
   ]
  },
  {
   "cell_type": "markdown",
   "metadata": {
    "colab_type": "text",
    "id": "Wn4nk6gyVfW2"
   },
   "source": [
    "# L1 Norm function"
   ]
  },
  {
   "cell_type": "code",
   "execution_count": 9,
   "metadata": {
    "colab": {},
    "colab_type": "code",
    "id": "Ar3BA5VsVeU4"
   },
   "outputs": [],
   "source": [
    "def calculate_l1_reg(model, lambda_l1):\n",
    "  \"\"\"Calculate L1 Norm\"\"\"\n",
    "  l1 = 0\n",
    "  for p in model.parameters():\n",
    "    l1 = l1 + p.abs().sum()\n",
    "  return(lambda_l1*l1)"
   ]
  },
  {
   "cell_type": "markdown",
   "metadata": {
    "colab_type": "text",
    "id": "aYVqTRGaf8L4"
   },
   "source": [
    "# Train and Test Functions"
   ]
  },
  {
   "cell_type": "code",
   "execution_count": 10,
   "metadata": {
    "colab": {},
    "colab_type": "code",
    "id": "FrjkrY8HgDUX"
   },
   "outputs": [],
   "source": [
    "train_losses = []\n",
    "train_acc = []\n",
    "\n",
    "def train(model, device, train_loader, optimizer, epoch, m_num, lambda_l1):\n",
    "\n",
    "  model.train()\n",
    "  pbar = tqdm(train_loader)\n",
    "  correct = 0\n",
    "  processed = 0\n",
    "  for batch_idx, (data, target) in enumerate(pbar):\n",
    "\n",
    "    data, target = data.to(device), target.to(device)     # Get batch\n",
    "    optimizer.zero_grad() # Set the gradients to zero before starting to do backpropragation\n",
    "    y_pred = model(data)  # Predict\n",
    "\n",
    "    loss = F.nll_loss(y_pred, target) # Calculate loss\n",
    "\n",
    "    if m_num in {0,2,4}:\n",
    "      # Calculate the MSE and L1 \n",
    "      l1 = calculate_l1_reg(model, lambda_l1)\n",
    "      loss = loss + l1\n",
    "\n",
    "    train_losses.append(loss) # Accumulate loss per batch\n",
    "\n",
    "    # Backpropagation\n",
    "    loss.backward()\n",
    "    optimizer.step()\n",
    "\n",
    "    # Update pbar-tqdm\n",
    "    pred = y_pred.argmax(dim=1, keepdim=True)  # get the index of the max log-probability\n",
    "    correct += pred.eq(target.view_as(pred)).sum().item()\n",
    "    processed += len(data)\n",
    "\n",
    "    pbar.set_description(desc= f'Loss={loss.item()} Batch_id={batch_idx} Train Accuracy={100*correct/processed:0.2f}')\n",
    "    train_acc.append(100*correct/processed)\n",
    "\n",
    "  return loss.item(), 100*correct/processed, train_losses, train_acc\n",
    "\n",
    "test_losses = []\n",
    "test_acc = []\n",
    "def test(model, device, test_loader):\n",
    "\n",
    "  model.eval()\n",
    "  test_loss = 0\n",
    "  correct = 0\n",
    "  with torch.no_grad():\n",
    "      for data, target in test_loader:\n",
    "          data, target = data.to(device), target.to(device)\n",
    "          output = model(data)\n",
    "          test_loss += F.nll_loss(output, target, reduction='sum').item()  # sum up batch loss\n",
    "          pred = output.argmax(dim=1, keepdim=True)  # get the index of the max log-probability\n",
    "          correct += pred.eq(target.view_as(pred)).sum().item()\n",
    "\n",
    "  test_loss /= len(test_loader.dataset)\n",
    "  test_losses.append(test_loss)\n",
    "\n",
    "  print('\\nTest set: Average loss: {:.4f}, Test Accuracy: {}/{} ({:.2f}%)\\n'.format(\n",
    "      test_loss, correct, len(test_loader.dataset),\n",
    "      100. * correct / len(test_loader.dataset)))\n",
    "  \n",
    "  test_acc.append(100. * correct / len(test_loader.dataset))\n",
    "\n",
    "  return test_loss, 100. * correct / len(test_loader.dataset), test_losses, test_acc\n",
    "\n",
    "def record_max_acc(max_acc):\n",
    "  f = open(base_folder+acc_recorder_file, \"w\")\n",
    "  f.write(str(max_acc))\n",
    "  f.close()"
   ]
  },
  {
   "cell_type": "markdown",
   "metadata": {
    "colab_type": "text",
    "id": "hykOzcLUgN2n"
   },
   "source": [
    "# Let's Train and test our model"
   ]
  },
  {
   "cell_type": "code",
   "execution_count": 11,
   "metadata": {
    "colab": {
     "base_uri": "https://localhost:8080/",
     "height": 1000
    },
    "colab_type": "code",
    "id": "C_BXjaK7gR8-",
    "outputId": "9ca67824-984d-44bc-f169-f3b60549a4bb"
   },
   "outputs": [
    {
     "name": "stderr",
     "output_type": "stream",
     "text": [
      "  0%|          | 0/469 [00:00<?, ?it/s]"
     ]
    },
    {
     "name": "stdout",
     "output_type": "stream",
     "text": [
      "Model Name: ==================( L1_BN )==================\n",
      "EPOCH: 0\n"
     ]
    },
    {
     "name": "stderr",
     "output_type": "stream",
     "text": [
      "Loss=0.10490518808364868 Batch_id=468 Train Accuracy=93.29: 100%|██████████| 469/469 [00:13<00:00, 34.39it/s]\n",
      "  0%|          | 0/469 [00:00<?, ?it/s]"
     ]
    },
    {
     "name": "stdout",
     "output_type": "stream",
     "text": [
      "\n",
      "Test set: Average loss: 0.0754, Test Accuracy: 9766/10000 (97.66%)\n",
      "\n",
      "EPOCH: 1\n"
     ]
    },
    {
     "name": "stderr",
     "output_type": "stream",
     "text": [
      "Loss=0.12814073264598846 Batch_id=468 Train Accuracy=98.06: 100%|██████████| 469/469 [00:13<00:00, 34.19it/s]\n",
      "  0%|          | 0/469 [00:00<?, ?it/s]"
     ]
    },
    {
     "name": "stdout",
     "output_type": "stream",
     "text": [
      "\n",
      "Test set: Average loss: 0.0375, Test Accuracy: 9875/10000 (98.75%)\n",
      "\n",
      "EPOCH: 2\n"
     ]
    },
    {
     "name": "stderr",
     "output_type": "stream",
     "text": [
      "Loss=0.01851632446050644 Batch_id=468 Train Accuracy=98.35: 100%|██████████| 469/469 [00:13<00:00, 34.02it/s]\n",
      "  0%|          | 0/469 [00:00<?, ?it/s]"
     ]
    },
    {
     "name": "stdout",
     "output_type": "stream",
     "text": [
      "\n",
      "Test set: Average loss: 0.0280, Test Accuracy: 9907/10000 (99.07%)\n",
      "\n",
      "EPOCH: 3\n"
     ]
    },
    {
     "name": "stderr",
     "output_type": "stream",
     "text": [
      "Loss=0.04802701994776726 Batch_id=468 Train Accuracy=98.51: 100%|██████████| 469/469 [00:13<00:00, 33.83it/s]\n",
      "  0%|          | 0/469 [00:00<?, ?it/s]"
     ]
    },
    {
     "name": "stdout",
     "output_type": "stream",
     "text": [
      "\n",
      "Test set: Average loss: 0.0251, Test Accuracy: 9919/10000 (99.19%)\n",
      "\n",
      "EPOCH: 4\n"
     ]
    },
    {
     "name": "stderr",
     "output_type": "stream",
     "text": [
      "Loss=0.045938003808259964 Batch_id=468 Train Accuracy=98.67: 100%|██████████| 469/469 [00:13<00:00, 34.45it/s]\n",
      "  0%|          | 0/469 [00:00<?, ?it/s]"
     ]
    },
    {
     "name": "stdout",
     "output_type": "stream",
     "text": [
      "\n",
      "Test set: Average loss: 0.0334, Test Accuracy: 9895/10000 (98.95%)\n",
      "\n",
      "EPOCH: 5\n"
     ]
    },
    {
     "name": "stderr",
     "output_type": "stream",
     "text": [
      "Loss=0.017736859619617462 Batch_id=468 Train Accuracy=99.07: 100%|██████████| 469/469 [00:13<00:00, 34.41it/s]\n",
      "  0%|          | 0/469 [00:00<?, ?it/s]"
     ]
    },
    {
     "name": "stdout",
     "output_type": "stream",
     "text": [
      "\n",
      "Test set: Average loss: 0.0208, Test Accuracy: 9930/10000 (99.30%)\n",
      "\n",
      "EPOCH: 6\n"
     ]
    },
    {
     "name": "stderr",
     "output_type": "stream",
     "text": [
      "Loss=0.027656087651848793 Batch_id=468 Train Accuracy=99.09: 100%|██████████| 469/469 [00:13<00:00, 34.48it/s]\n",
      "  0%|          | 0/469 [00:00<?, ?it/s]"
     ]
    },
    {
     "name": "stdout",
     "output_type": "stream",
     "text": [
      "\n",
      "Test set: Average loss: 0.0204, Test Accuracy: 9928/10000 (99.28%)\n",
      "\n",
      "EPOCH: 7\n"
     ]
    },
    {
     "name": "stderr",
     "output_type": "stream",
     "text": [
      "Loss=0.016686707735061646 Batch_id=468 Train Accuracy=99.12: 100%|██████████| 469/469 [00:13<00:00, 34.16it/s]\n",
      "  0%|          | 0/469 [00:00<?, ?it/s]"
     ]
    },
    {
     "name": "stdout",
     "output_type": "stream",
     "text": [
      "\n",
      "Test set: Average loss: 0.0193, Test Accuracy: 9936/10000 (99.36%)\n",
      "\n",
      "EPOCH: 8\n"
     ]
    },
    {
     "name": "stderr",
     "output_type": "stream",
     "text": [
      "Loss=0.03726881742477417 Batch_id=468 Train Accuracy=99.14: 100%|██████████| 469/469 [00:13<00:00, 34.29it/s]\n",
      "  0%|          | 0/469 [00:00<?, ?it/s]"
     ]
    },
    {
     "name": "stdout",
     "output_type": "stream",
     "text": [
      "\n",
      "Test set: Average loss: 0.0198, Test Accuracy: 9933/10000 (99.33%)\n",
      "\n",
      "EPOCH: 9\n"
     ]
    },
    {
     "name": "stderr",
     "output_type": "stream",
     "text": [
      "Loss=0.07543028146028519 Batch_id=468 Train Accuracy=99.14: 100%|██████████| 469/469 [00:13<00:00, 33.94it/s]\n",
      "  0%|          | 0/469 [00:00<?, ?it/s]"
     ]
    },
    {
     "name": "stdout",
     "output_type": "stream",
     "text": [
      "\n",
      "Test set: Average loss: 0.0184, Test Accuracy: 9936/10000 (99.36%)\n",
      "\n",
      "EPOCH: 10\n"
     ]
    },
    {
     "name": "stderr",
     "output_type": "stream",
     "text": [
      "Loss=0.03464416414499283 Batch_id=468 Train Accuracy=99.22: 100%|██████████| 469/469 [00:13<00:00, 34.42it/s]\n",
      "  0%|          | 0/469 [00:00<?, ?it/s]"
     ]
    },
    {
     "name": "stdout",
     "output_type": "stream",
     "text": [
      "\n",
      "Test set: Average loss: 0.0182, Test Accuracy: 9936/10000 (99.36%)\n",
      "\n",
      "EPOCH: 11\n"
     ]
    },
    {
     "name": "stderr",
     "output_type": "stream",
     "text": [
      "Loss=0.09357911348342896 Batch_id=468 Train Accuracy=99.21: 100%|██████████| 469/469 [00:13<00:00, 34.51it/s]\n",
      "  0%|          | 0/469 [00:00<?, ?it/s]"
     ]
    },
    {
     "name": "stdout",
     "output_type": "stream",
     "text": [
      "\n",
      "Test set: Average loss: 0.0190, Test Accuracy: 9933/10000 (99.33%)\n",
      "\n",
      "EPOCH: 12\n"
     ]
    },
    {
     "name": "stderr",
     "output_type": "stream",
     "text": [
      "Loss=0.05002391338348389 Batch_id=468 Train Accuracy=99.18: 100%|██████████| 469/469 [00:13<00:00, 34.41it/s]\n",
      "  0%|          | 0/469 [00:00<?, ?it/s]"
     ]
    },
    {
     "name": "stdout",
     "output_type": "stream",
     "text": [
      "\n",
      "Test set: Average loss: 0.0184, Test Accuracy: 9937/10000 (99.37%)\n",
      "\n",
      "EPOCH: 13\n"
     ]
    },
    {
     "name": "stderr",
     "output_type": "stream",
     "text": [
      "Loss=0.02685556933283806 Batch_id=468 Train Accuracy=99.25: 100%|██████████| 469/469 [00:13<00:00, 33.85it/s]\n",
      "  0%|          | 0/469 [00:00<?, ?it/s]"
     ]
    },
    {
     "name": "stdout",
     "output_type": "stream",
     "text": [
      "\n",
      "Test set: Average loss: 0.0183, Test Accuracy: 9939/10000 (99.39%)\n",
      "\n",
      "EPOCH: 14\n"
     ]
    },
    {
     "name": "stderr",
     "output_type": "stream",
     "text": [
      "Loss=0.060796111822128296 Batch_id=468 Train Accuracy=99.23: 100%|██████████| 469/469 [00:14<00:00, 33.49it/s]\n",
      "  0%|          | 0/469 [00:00<?, ?it/s]"
     ]
    },
    {
     "name": "stdout",
     "output_type": "stream",
     "text": [
      "\n",
      "Test set: Average loss: 0.0181, Test Accuracy: 9938/10000 (99.38%)\n",
      "\n",
      "EPOCH: 15\n"
     ]
    },
    {
     "name": "stderr",
     "output_type": "stream",
     "text": [
      "Loss=0.06901972740888596 Batch_id=468 Train Accuracy=99.27: 100%|██████████| 469/469 [00:13<00:00, 34.13it/s]\n",
      "  0%|          | 0/469 [00:00<?, ?it/s]"
     ]
    },
    {
     "name": "stdout",
     "output_type": "stream",
     "text": [
      "\n",
      "Test set: Average loss: 0.0182, Test Accuracy: 9937/10000 (99.37%)\n",
      "\n",
      "EPOCH: 16\n"
     ]
    },
    {
     "name": "stderr",
     "output_type": "stream",
     "text": [
      "Loss=0.027275340631604195 Batch_id=468 Train Accuracy=99.22: 100%|██████████| 469/469 [00:13<00:00, 33.99it/s]\n",
      "  0%|          | 0/469 [00:00<?, ?it/s]"
     ]
    },
    {
     "name": "stdout",
     "output_type": "stream",
     "text": [
      "\n",
      "Test set: Average loss: 0.0183, Test Accuracy: 9938/10000 (99.38%)\n",
      "\n",
      "EPOCH: 17\n"
     ]
    },
    {
     "name": "stderr",
     "output_type": "stream",
     "text": [
      "Loss=0.02476576529443264 Batch_id=468 Train Accuracy=99.17: 100%|██████████| 469/469 [00:13<00:00, 34.25it/s]\n",
      "  0%|          | 0/469 [00:00<?, ?it/s]"
     ]
    },
    {
     "name": "stdout",
     "output_type": "stream",
     "text": [
      "\n",
      "Test set: Average loss: 0.0182, Test Accuracy: 9938/10000 (99.38%)\n",
      "\n",
      "EPOCH: 18\n"
     ]
    },
    {
     "name": "stderr",
     "output_type": "stream",
     "text": [
      "Loss=0.02216070517897606 Batch_id=468 Train Accuracy=99.28: 100%|██████████| 469/469 [00:13<00:00, 35.19it/s]\n",
      "  0%|          | 0/469 [00:00<?, ?it/s]"
     ]
    },
    {
     "name": "stdout",
     "output_type": "stream",
     "text": [
      "\n",
      "Test set: Average loss: 0.0182, Test Accuracy: 9939/10000 (99.39%)\n",
      "\n",
      "EPOCH: 19\n"
     ]
    },
    {
     "name": "stderr",
     "output_type": "stream",
     "text": [
      "Loss=0.02823975682258606 Batch_id=468 Train Accuracy=99.22: 100%|██████████| 469/469 [00:13<00:00, 34.07it/s]\n",
      "  0%|          | 0/469 [00:00<?, ?it/s]"
     ]
    },
    {
     "name": "stdout",
     "output_type": "stream",
     "text": [
      "\n",
      "Test set: Average loss: 0.0177, Test Accuracy: 9938/10000 (99.38%)\n",
      "\n",
      "EPOCH: 20\n"
     ]
    },
    {
     "name": "stderr",
     "output_type": "stream",
     "text": [
      "Loss=0.02147171087563038 Batch_id=468 Train Accuracy=99.25: 100%|██████████| 469/469 [00:14<00:00, 32.26it/s]\n",
      "  0%|          | 0/469 [00:00<?, ?it/s]"
     ]
    },
    {
     "name": "stdout",
     "output_type": "stream",
     "text": [
      "\n",
      "Test set: Average loss: 0.0181, Test Accuracy: 9940/10000 (99.40%)\n",
      "\n",
      "EPOCH: 21\n"
     ]
    },
    {
     "name": "stderr",
     "output_type": "stream",
     "text": [
      "Loss=0.03423185646533966 Batch_id=468 Train Accuracy=99.24: 100%|██████████| 469/469 [00:14<00:00, 32.83it/s]\n",
      "  0%|          | 0/469 [00:00<?, ?it/s]"
     ]
    },
    {
     "name": "stdout",
     "output_type": "stream",
     "text": [
      "\n",
      "Test set: Average loss: 0.0187, Test Accuracy: 9938/10000 (99.38%)\n",
      "\n",
      "EPOCH: 22\n"
     ]
    },
    {
     "name": "stderr",
     "output_type": "stream",
     "text": [
      "Loss=0.023708699271082878 Batch_id=468 Train Accuracy=99.23: 100%|██████████| 469/469 [00:14<00:00, 31.55it/s]\n",
      "  0%|          | 0/469 [00:00<?, ?it/s]"
     ]
    },
    {
     "name": "stdout",
     "output_type": "stream",
     "text": [
      "\n",
      "Test set: Average loss: 0.0185, Test Accuracy: 9937/10000 (99.37%)\n",
      "\n",
      "EPOCH: 23\n"
     ]
    },
    {
     "name": "stderr",
     "output_type": "stream",
     "text": [
      "Loss=0.053771428763866425 Batch_id=468 Train Accuracy=99.22: 100%|██████████| 469/469 [00:14<00:00, 31.86it/s]\n",
      "  0%|          | 0/469 [00:00<?, ?it/s]"
     ]
    },
    {
     "name": "stdout",
     "output_type": "stream",
     "text": [
      "\n",
      "Test set: Average loss: 0.0188, Test Accuracy: 9934/10000 (99.34%)\n",
      "\n",
      "EPOCH: 24\n"
     ]
    },
    {
     "name": "stderr",
     "output_type": "stream",
     "text": [
      "Loss=0.027439692988991737 Batch_id=468 Train Accuracy=99.23: 100%|██████████| 469/469 [00:14<00:00, 33.40it/s]\n",
      "  0%|          | 0/469 [00:00<?, ?it/s]"
     ]
    },
    {
     "name": "stdout",
     "output_type": "stream",
     "text": [
      "\n",
      "Test set: Average loss: 0.0177, Test Accuracy: 9937/10000 (99.37%)\n",
      "\n",
      "Maximum Test Accuracy for L1_BN is 99.37\n",
      "=========================================================\n",
      "Model Name: ==================( L2_BN )==================\n",
      "EPOCH: 0\n"
     ]
    },
    {
     "name": "stderr",
     "output_type": "stream",
     "text": [
      "Loss=0.05765105411410332 Batch_id=468 Train Accuracy=92.78: 100%|██████████| 469/469 [00:13<00:00, 35.03it/s]\n",
      "  0%|          | 0/469 [00:00<?, ?it/s]"
     ]
    },
    {
     "name": "stdout",
     "output_type": "stream",
     "text": [
      "\n",
      "Test set: Average loss: 0.0674, Test Accuracy: 9772/10000 (97.72%)\n",
      "\n",
      "EPOCH: 1\n"
     ]
    },
    {
     "name": "stderr",
     "output_type": "stream",
     "text": [
      "Loss=0.028570614755153656 Batch_id=468 Train Accuracy=98.08: 100%|██████████| 469/469 [00:13<00:00, 34.52it/s]\n",
      "  0%|          | 0/469 [00:00<?, ?it/s]"
     ]
    },
    {
     "name": "stdout",
     "output_type": "stream",
     "text": [
      "\n",
      "Test set: Average loss: 0.0525, Test Accuracy: 9840/10000 (98.40%)\n",
      "\n",
      "EPOCH: 2\n"
     ]
    },
    {
     "name": "stderr",
     "output_type": "stream",
     "text": [
      "Loss=0.022874943912029266 Batch_id=468 Train Accuracy=98.40: 100%|██████████| 469/469 [00:14<00:00, 33.24it/s]\n",
      "  0%|          | 0/469 [00:00<?, ?it/s]"
     ]
    },
    {
     "name": "stdout",
     "output_type": "stream",
     "text": [
      "\n",
      "Test set: Average loss: 0.0350, Test Accuracy: 9893/10000 (98.93%)\n",
      "\n",
      "EPOCH: 3\n"
     ]
    },
    {
     "name": "stderr",
     "output_type": "stream",
     "text": [
      "Loss=0.06275174021720886 Batch_id=468 Train Accuracy=98.53: 100%|██████████| 469/469 [00:13<00:00, 33.74it/s]\n",
      "  0%|          | 0/469 [00:00<?, ?it/s]"
     ]
    },
    {
     "name": "stdout",
     "output_type": "stream",
     "text": [
      "\n",
      "Test set: Average loss: 0.0472, Test Accuracy: 9851/10000 (98.51%)\n",
      "\n",
      "EPOCH: 4\n"
     ]
    },
    {
     "name": "stderr",
     "output_type": "stream",
     "text": [
      "Loss=0.004262413829565048 Batch_id=468 Train Accuracy=98.71: 100%|██████████| 469/469 [00:13<00:00, 34.86it/s]\n",
      "  0%|          | 0/469 [00:00<?, ?it/s]"
     ]
    },
    {
     "name": "stdout",
     "output_type": "stream",
     "text": [
      "\n",
      "Test set: Average loss: 0.0277, Test Accuracy: 9916/10000 (99.16%)\n",
      "\n",
      "EPOCH: 5\n"
     ]
    },
    {
     "name": "stderr",
     "output_type": "stream",
     "text": [
      "Loss=0.026557976379990578 Batch_id=468 Train Accuracy=99.00: 100%|██████████| 469/469 [00:13<00:00, 34.89it/s]\n",
      "  0%|          | 0/469 [00:00<?, ?it/s]"
     ]
    },
    {
     "name": "stdout",
     "output_type": "stream",
     "text": [
      "\n",
      "Test set: Average loss: 0.0228, Test Accuracy: 9931/10000 (99.31%)\n",
      "\n",
      "EPOCH: 6\n"
     ]
    },
    {
     "name": "stderr",
     "output_type": "stream",
     "text": [
      "Loss=0.0045556542463600636 Batch_id=468 Train Accuracy=99.09: 100%|██████████| 469/469 [00:13<00:00, 34.98it/s]\n",
      "  0%|          | 0/469 [00:00<?, ?it/s]"
     ]
    },
    {
     "name": "stdout",
     "output_type": "stream",
     "text": [
      "\n",
      "Test set: Average loss: 0.0225, Test Accuracy: 9927/10000 (99.27%)\n",
      "\n",
      "EPOCH: 7\n"
     ]
    },
    {
     "name": "stderr",
     "output_type": "stream",
     "text": [
      "Loss=0.013613245449960232 Batch_id=468 Train Accuracy=99.13: 100%|██████████| 469/469 [00:13<00:00, 35.35it/s]\n",
      "  0%|          | 0/469 [00:00<?, ?it/s]"
     ]
    },
    {
     "name": "stdout",
     "output_type": "stream",
     "text": [
      "\n",
      "Test set: Average loss: 0.0223, Test Accuracy: 9930/10000 (99.30%)\n",
      "\n",
      "EPOCH: 8\n"
     ]
    },
    {
     "name": "stderr",
     "output_type": "stream",
     "text": [
      "Loss=0.03335164859890938 Batch_id=468 Train Accuracy=99.17: 100%|██████████| 469/469 [00:13<00:00, 34.72it/s]\n",
      "  0%|          | 0/469 [00:00<?, ?it/s]"
     ]
    },
    {
     "name": "stdout",
     "output_type": "stream",
     "text": [
      "\n",
      "Test set: Average loss: 0.0225, Test Accuracy: 9931/10000 (99.31%)\n",
      "\n",
      "EPOCH: 9\n"
     ]
    },
    {
     "name": "stderr",
     "output_type": "stream",
     "text": [
      "Loss=0.004184149671345949 Batch_id=468 Train Accuracy=99.15: 100%|██████████| 469/469 [00:13<00:00, 34.38it/s]\n",
      "  0%|          | 0/469 [00:00<?, ?it/s]"
     ]
    },
    {
     "name": "stdout",
     "output_type": "stream",
     "text": [
      "\n",
      "Test set: Average loss: 0.0214, Test Accuracy: 9931/10000 (99.31%)\n",
      "\n",
      "EPOCH: 10\n"
     ]
    },
    {
     "name": "stderr",
     "output_type": "stream",
     "text": [
      "Loss=0.025124497711658478 Batch_id=468 Train Accuracy=99.20: 100%|██████████| 469/469 [00:14<00:00, 33.31it/s]\n",
      "  0%|          | 0/469 [00:00<?, ?it/s]"
     ]
    },
    {
     "name": "stdout",
     "output_type": "stream",
     "text": [
      "\n",
      "Test set: Average loss: 0.0206, Test Accuracy: 9933/10000 (99.33%)\n",
      "\n",
      "EPOCH: 11\n"
     ]
    },
    {
     "name": "stderr",
     "output_type": "stream",
     "text": [
      "Loss=0.00824925396591425 Batch_id=468 Train Accuracy=99.21: 100%|██████████| 469/469 [00:14<00:00, 33.00it/s]\n",
      "  0%|          | 0/469 [00:00<?, ?it/s]"
     ]
    },
    {
     "name": "stdout",
     "output_type": "stream",
     "text": [
      "\n",
      "Test set: Average loss: 0.0211, Test Accuracy: 9930/10000 (99.30%)\n",
      "\n",
      "EPOCH: 12\n"
     ]
    },
    {
     "name": "stderr",
     "output_type": "stream",
     "text": [
      "Loss=0.01737830601632595 Batch_id=468 Train Accuracy=99.23: 100%|██████████| 469/469 [00:14<00:00, 33.34it/s]\n",
      "  0%|          | 0/469 [00:00<?, ?it/s]"
     ]
    },
    {
     "name": "stdout",
     "output_type": "stream",
     "text": [
      "\n",
      "Test set: Average loss: 0.0209, Test Accuracy: 9931/10000 (99.31%)\n",
      "\n",
      "EPOCH: 13\n"
     ]
    },
    {
     "name": "stderr",
     "output_type": "stream",
     "text": [
      "Loss=0.004018711391836405 Batch_id=468 Train Accuracy=99.20: 100%|██████████| 469/469 [00:13<00:00, 34.16it/s]\n",
      "  0%|          | 0/469 [00:00<?, ?it/s]"
     ]
    },
    {
     "name": "stdout",
     "output_type": "stream",
     "text": [
      "\n",
      "Test set: Average loss: 0.0216, Test Accuracy: 9931/10000 (99.31%)\n",
      "\n",
      "EPOCH: 14\n"
     ]
    },
    {
     "name": "stderr",
     "output_type": "stream",
     "text": [
      "Loss=0.0050024488009512424 Batch_id=468 Train Accuracy=99.23: 100%|██████████| 469/469 [00:13<00:00, 34.43it/s]\n",
      "  0%|          | 0/469 [00:00<?, ?it/s]"
     ]
    },
    {
     "name": "stdout",
     "output_type": "stream",
     "text": [
      "\n",
      "Test set: Average loss: 0.0212, Test Accuracy: 9927/10000 (99.27%)\n",
      "\n",
      "EPOCH: 15\n"
     ]
    },
    {
     "name": "stderr",
     "output_type": "stream",
     "text": [
      "Loss=0.022892357781529427 Batch_id=468 Train Accuracy=99.25: 100%|██████████| 469/469 [00:13<00:00, 34.66it/s]\n",
      "  0%|          | 0/469 [00:00<?, ?it/s]"
     ]
    },
    {
     "name": "stdout",
     "output_type": "stream",
     "text": [
      "\n",
      "Test set: Average loss: 0.0218, Test Accuracy: 9928/10000 (99.28%)\n",
      "\n",
      "EPOCH: 16\n"
     ]
    },
    {
     "name": "stderr",
     "output_type": "stream",
     "text": [
      "Loss=0.0426439605653286 Batch_id=468 Train Accuracy=99.20: 100%|██████████| 469/469 [00:13<00:00, 34.52it/s]\n",
      "  0%|          | 0/469 [00:00<?, ?it/s]"
     ]
    },
    {
     "name": "stdout",
     "output_type": "stream",
     "text": [
      "\n",
      "Test set: Average loss: 0.0212, Test Accuracy: 9932/10000 (99.32%)\n",
      "\n",
      "EPOCH: 17\n"
     ]
    },
    {
     "name": "stderr",
     "output_type": "stream",
     "text": [
      "Loss=0.01990554668009281 Batch_id=468 Train Accuracy=99.22: 100%|██████████| 469/469 [00:13<00:00, 34.25it/s]\n",
      "  0%|          | 0/469 [00:00<?, ?it/s]"
     ]
    },
    {
     "name": "stdout",
     "output_type": "stream",
     "text": [
      "\n",
      "Test set: Average loss: 0.0216, Test Accuracy: 9929/10000 (99.29%)\n",
      "\n",
      "EPOCH: 18\n"
     ]
    },
    {
     "name": "stderr",
     "output_type": "stream",
     "text": [
      "Loss=0.012775910086929798 Batch_id=468 Train Accuracy=99.20: 100%|██████████| 469/469 [00:13<00:00, 34.58it/s]\n",
      "  0%|          | 0/469 [00:00<?, ?it/s]"
     ]
    },
    {
     "name": "stdout",
     "output_type": "stream",
     "text": [
      "\n",
      "Test set: Average loss: 0.0203, Test Accuracy: 9930/10000 (99.30%)\n",
      "\n",
      "EPOCH: 19\n"
     ]
    },
    {
     "name": "stderr",
     "output_type": "stream",
     "text": [
      "Loss=0.011363274417817593 Batch_id=468 Train Accuracy=99.23: 100%|██████████| 469/469 [00:13<00:00, 34.44it/s]\n",
      "  0%|          | 0/469 [00:00<?, ?it/s]"
     ]
    },
    {
     "name": "stdout",
     "output_type": "stream",
     "text": [
      "\n",
      "Test set: Average loss: 0.0208, Test Accuracy: 9932/10000 (99.32%)\n",
      "\n",
      "EPOCH: 20\n"
     ]
    },
    {
     "name": "stderr",
     "output_type": "stream",
     "text": [
      "Loss=0.01085639838129282 Batch_id=468 Train Accuracy=99.21: 100%|██████████| 469/469 [00:13<00:00, 33.91it/s]\n",
      "  0%|          | 0/469 [00:00<?, ?it/s]"
     ]
    },
    {
     "name": "stdout",
     "output_type": "stream",
     "text": [
      "\n",
      "Test set: Average loss: 0.0204, Test Accuracy: 9933/10000 (99.33%)\n",
      "\n",
      "EPOCH: 21\n"
     ]
    },
    {
     "name": "stderr",
     "output_type": "stream",
     "text": [
      "Loss=0.033109959214925766 Batch_id=468 Train Accuracy=99.23: 100%|██████████| 469/469 [00:13<00:00, 34.52it/s]\n",
      "  0%|          | 0/469 [00:00<?, ?it/s]"
     ]
    },
    {
     "name": "stdout",
     "output_type": "stream",
     "text": [
      "\n",
      "Test set: Average loss: 0.0207, Test Accuracy: 9931/10000 (99.31%)\n",
      "\n",
      "EPOCH: 22\n"
     ]
    },
    {
     "name": "stderr",
     "output_type": "stream",
     "text": [
      "Loss=0.006104075815528631 Batch_id=468 Train Accuracy=99.27: 100%|██████████| 469/469 [00:13<00:00, 34.27it/s]\n",
      "  0%|          | 0/469 [00:00<?, ?it/s]"
     ]
    },
    {
     "name": "stdout",
     "output_type": "stream",
     "text": [
      "\n",
      "Test set: Average loss: 0.0212, Test Accuracy: 9932/10000 (99.32%)\n",
      "\n",
      "EPOCH: 23\n"
     ]
    },
    {
     "name": "stderr",
     "output_type": "stream",
     "text": [
      "Loss=0.019756797701120377 Batch_id=468 Train Accuracy=99.21: 100%|██████████| 469/469 [00:13<00:00, 34.89it/s]\n",
      "  0%|          | 0/469 [00:00<?, ?it/s]"
     ]
    },
    {
     "name": "stdout",
     "output_type": "stream",
     "text": [
      "\n",
      "Test set: Average loss: 0.0219, Test Accuracy: 9927/10000 (99.27%)\n",
      "\n",
      "EPOCH: 24\n"
     ]
    },
    {
     "name": "stderr",
     "output_type": "stream",
     "text": [
      "Loss=0.023631662130355835 Batch_id=468 Train Accuracy=99.25: 100%|██████████| 469/469 [00:13<00:00, 34.67it/s]\n",
      "  0%|          | 0/469 [00:00<?, ?it/s]"
     ]
    },
    {
     "name": "stdout",
     "output_type": "stream",
     "text": [
      "\n",
      "Test set: Average loss: 0.0207, Test Accuracy: 9932/10000 (99.32%)\n",
      "\n",
      "Maximum Test Accuracy for L2_BN is 99.32\n",
      "=========================================================\n",
      "Model Name: ==================( L1_L2_BN )==================\n",
      "EPOCH: 0\n"
     ]
    },
    {
     "name": "stderr",
     "output_type": "stream",
     "text": [
      "Loss=0.07197389006614685 Batch_id=468 Train Accuracy=93.53: 100%|██████████| 469/469 [00:14<00:00, 32.51it/s]\n",
      "  0%|          | 0/469 [00:00<?, ?it/s]"
     ]
    },
    {
     "name": "stdout",
     "output_type": "stream",
     "text": [
      "\n",
      "Test set: Average loss: 0.0570, Test Accuracy: 9828/10000 (98.28%)\n",
      "\n",
      "EPOCH: 1\n"
     ]
    },
    {
     "name": "stderr",
     "output_type": "stream",
     "text": [
      "Loss=0.09743942320346832 Batch_id=468 Train Accuracy=97.95: 100%|██████████| 469/469 [00:14<00:00, 32.57it/s]\n",
      "  0%|          | 0/469 [00:00<?, ?it/s]"
     ]
    },
    {
     "name": "stdout",
     "output_type": "stream",
     "text": [
      "\n",
      "Test set: Average loss: 0.0471, Test Accuracy: 9852/10000 (98.52%)\n",
      "\n",
      "EPOCH: 2\n"
     ]
    },
    {
     "name": "stderr",
     "output_type": "stream",
     "text": [
      "Loss=0.24151679873466492 Batch_id=468 Train Accuracy=98.41: 100%|██████████| 469/469 [00:14<00:00, 32.88it/s]\n",
      "  0%|          | 0/469 [00:00<?, ?it/s]"
     ]
    },
    {
     "name": "stdout",
     "output_type": "stream",
     "text": [
      "\n",
      "Test set: Average loss: 0.0448, Test Accuracy: 9854/10000 (98.54%)\n",
      "\n",
      "EPOCH: 3\n"
     ]
    },
    {
     "name": "stderr",
     "output_type": "stream",
     "text": [
      "Loss=0.1594226211309433 Batch_id=468 Train Accuracy=98.53: 100%|██████████| 469/469 [00:14<00:00, 32.32it/s]\n",
      "  0%|          | 0/469 [00:00<?, ?it/s]"
     ]
    },
    {
     "name": "stdout",
     "output_type": "stream",
     "text": [
      "\n",
      "Test set: Average loss: 0.0341, Test Accuracy: 9892/10000 (98.92%)\n",
      "\n",
      "EPOCH: 4\n"
     ]
    },
    {
     "name": "stderr",
     "output_type": "stream",
     "text": [
      "Loss=0.09663844108581543 Batch_id=468 Train Accuracy=98.67: 100%|██████████| 469/469 [00:14<00:00, 31.47it/s]\n",
      "  0%|          | 0/469 [00:00<?, ?it/s]"
     ]
    },
    {
     "name": "stdout",
     "output_type": "stream",
     "text": [
      "\n",
      "Test set: Average loss: 0.0288, Test Accuracy: 9916/10000 (99.16%)\n",
      "\n",
      "EPOCH: 5\n"
     ]
    },
    {
     "name": "stderr",
     "output_type": "stream",
     "text": [
      "Loss=0.09703011810779572 Batch_id=468 Train Accuracy=99.08: 100%|██████████| 469/469 [00:14<00:00, 32.08it/s]\n",
      "  0%|          | 0/469 [00:00<?, ?it/s]"
     ]
    },
    {
     "name": "stdout",
     "output_type": "stream",
     "text": [
      "\n",
      "Test set: Average loss: 0.0229, Test Accuracy: 9932/10000 (99.32%)\n",
      "\n",
      "EPOCH: 6\n"
     ]
    },
    {
     "name": "stderr",
     "output_type": "stream",
     "text": [
      "Loss=0.042106758803129196 Batch_id=468 Train Accuracy=99.19: 100%|██████████| 469/469 [00:14<00:00, 32.40it/s]\n",
      "  0%|          | 0/469 [00:00<?, ?it/s]"
     ]
    },
    {
     "name": "stdout",
     "output_type": "stream",
     "text": [
      "\n",
      "Test set: Average loss: 0.0220, Test Accuracy: 9931/10000 (99.31%)\n",
      "\n",
      "EPOCH: 7\n"
     ]
    },
    {
     "name": "stderr",
     "output_type": "stream",
     "text": [
      "Loss=0.018936768174171448 Batch_id=468 Train Accuracy=99.16: 100%|██████████| 469/469 [00:14<00:00, 32.47it/s]\n",
      "  0%|          | 0/469 [00:00<?, ?it/s]"
     ]
    },
    {
     "name": "stdout",
     "output_type": "stream",
     "text": [
      "\n",
      "Test set: Average loss: 0.0213, Test Accuracy: 9933/10000 (99.33%)\n",
      "\n",
      "EPOCH: 8\n"
     ]
    },
    {
     "name": "stderr",
     "output_type": "stream",
     "text": [
      "Loss=0.020238719880580902 Batch_id=468 Train Accuracy=99.19: 100%|██████████| 469/469 [00:14<00:00, 32.56it/s]\n",
      "  0%|          | 0/469 [00:00<?, ?it/s]"
     ]
    },
    {
     "name": "stdout",
     "output_type": "stream",
     "text": [
      "\n",
      "Test set: Average loss: 0.0214, Test Accuracy: 9933/10000 (99.33%)\n",
      "\n",
      "EPOCH: 9\n"
     ]
    },
    {
     "name": "stderr",
     "output_type": "stream",
     "text": [
      "Loss=0.03013255074620247 Batch_id=468 Train Accuracy=99.22: 100%|██████████| 469/469 [00:14<00:00, 32.41it/s]\n",
      "  0%|          | 0/469 [00:00<?, ?it/s]"
     ]
    },
    {
     "name": "stdout",
     "output_type": "stream",
     "text": [
      "\n",
      "Test set: Average loss: 0.0216, Test Accuracy: 9933/10000 (99.33%)\n",
      "\n",
      "EPOCH: 10\n"
     ]
    },
    {
     "name": "stderr",
     "output_type": "stream",
     "text": [
      "Loss=0.10462512820959091 Batch_id=468 Train Accuracy=99.22: 100%|██████████| 469/469 [00:14<00:00, 32.36it/s]\n",
      "  0%|          | 0/469 [00:00<?, ?it/s]"
     ]
    },
    {
     "name": "stdout",
     "output_type": "stream",
     "text": [
      "\n",
      "Test set: Average loss: 0.0210, Test Accuracy: 9935/10000 (99.35%)\n",
      "\n",
      "EPOCH: 11\n"
     ]
    },
    {
     "name": "stderr",
     "output_type": "stream",
     "text": [
      "Loss=0.033138297498226166 Batch_id=468 Train Accuracy=99.25: 100%|██████████| 469/469 [00:14<00:00, 32.51it/s]\n",
      "  0%|          | 0/469 [00:00<?, ?it/s]"
     ]
    },
    {
     "name": "stdout",
     "output_type": "stream",
     "text": [
      "\n",
      "Test set: Average loss: 0.0210, Test Accuracy: 9937/10000 (99.37%)\n",
      "\n",
      "EPOCH: 12\n"
     ]
    },
    {
     "name": "stderr",
     "output_type": "stream",
     "text": [
      "Loss=0.01857876032590866 Batch_id=468 Train Accuracy=99.26: 100%|██████████| 469/469 [00:14<00:00, 32.84it/s]\n",
      "  0%|          | 0/469 [00:00<?, ?it/s]"
     ]
    },
    {
     "name": "stdout",
     "output_type": "stream",
     "text": [
      "\n",
      "Test set: Average loss: 0.0211, Test Accuracy: 9936/10000 (99.36%)\n",
      "\n",
      "EPOCH: 13\n"
     ]
    },
    {
     "name": "stderr",
     "output_type": "stream",
     "text": [
      "Loss=0.05264764651656151 Batch_id=468 Train Accuracy=99.19: 100%|██████████| 469/469 [00:14<00:00, 32.01it/s]\n",
      "  0%|          | 0/469 [00:00<?, ?it/s]"
     ]
    },
    {
     "name": "stdout",
     "output_type": "stream",
     "text": [
      "\n",
      "Test set: Average loss: 0.0220, Test Accuracy: 9935/10000 (99.35%)\n",
      "\n",
      "EPOCH: 14\n"
     ]
    },
    {
     "name": "stderr",
     "output_type": "stream",
     "text": [
      "Loss=0.01653238944709301 Batch_id=468 Train Accuracy=99.23: 100%|██████████| 469/469 [00:14<00:00, 32.72it/s]\n",
      "  0%|          | 0/469 [00:00<?, ?it/s]"
     ]
    },
    {
     "name": "stdout",
     "output_type": "stream",
     "text": [
      "\n",
      "Test set: Average loss: 0.0207, Test Accuracy: 9936/10000 (99.36%)\n",
      "\n",
      "EPOCH: 15\n"
     ]
    },
    {
     "name": "stderr",
     "output_type": "stream",
     "text": [
      "Loss=0.09105584770441055 Batch_id=468 Train Accuracy=99.27: 100%|██████████| 469/469 [00:14<00:00, 32.13it/s]\n",
      "  0%|          | 0/469 [00:00<?, ?it/s]"
     ]
    },
    {
     "name": "stdout",
     "output_type": "stream",
     "text": [
      "\n",
      "Test set: Average loss: 0.0219, Test Accuracy: 9934/10000 (99.34%)\n",
      "\n",
      "EPOCH: 16\n"
     ]
    },
    {
     "name": "stderr",
     "output_type": "stream",
     "text": [
      "Loss=0.02721516788005829 Batch_id=468 Train Accuracy=99.22: 100%|██████████| 469/469 [00:14<00:00, 32.23it/s]\n",
      "  0%|          | 0/469 [00:00<?, ?it/s]"
     ]
    },
    {
     "name": "stdout",
     "output_type": "stream",
     "text": [
      "\n",
      "Test set: Average loss: 0.0212, Test Accuracy: 9935/10000 (99.35%)\n",
      "\n",
      "EPOCH: 17\n"
     ]
    },
    {
     "name": "stderr",
     "output_type": "stream",
     "text": [
      "Loss=0.016405731439590454 Batch_id=468 Train Accuracy=99.27: 100%|██████████| 469/469 [00:14<00:00, 32.67it/s]\n",
      "  0%|          | 0/469 [00:00<?, ?it/s]"
     ]
    },
    {
     "name": "stdout",
     "output_type": "stream",
     "text": [
      "\n",
      "Test set: Average loss: 0.0211, Test Accuracy: 9937/10000 (99.37%)\n",
      "\n",
      "EPOCH: 18\n"
     ]
    },
    {
     "name": "stderr",
     "output_type": "stream",
     "text": [
      "Loss=0.10939153283834457 Batch_id=468 Train Accuracy=99.31: 100%|██████████| 469/469 [00:14<00:00, 32.94it/s]\n",
      "  0%|          | 0/469 [00:00<?, ?it/s]"
     ]
    },
    {
     "name": "stdout",
     "output_type": "stream",
     "text": [
      "\n",
      "Test set: Average loss: 0.0213, Test Accuracy: 9936/10000 (99.36%)\n",
      "\n",
      "EPOCH: 19\n"
     ]
    },
    {
     "name": "stderr",
     "output_type": "stream",
     "text": [
      "Loss=0.026241904124617577 Batch_id=468 Train Accuracy=99.30: 100%|██████████| 469/469 [00:14<00:00, 32.28it/s]\n",
      "  0%|          | 0/469 [00:00<?, ?it/s]"
     ]
    },
    {
     "name": "stdout",
     "output_type": "stream",
     "text": [
      "\n",
      "Test set: Average loss: 0.0217, Test Accuracy: 9934/10000 (99.34%)\n",
      "\n",
      "EPOCH: 20\n"
     ]
    },
    {
     "name": "stderr",
     "output_type": "stream",
     "text": [
      "Loss=0.10825715214014053 Batch_id=468 Train Accuracy=99.26: 100%|██████████| 469/469 [00:14<00:00, 32.14it/s]\n",
      "  0%|          | 0/469 [00:00<?, ?it/s]"
     ]
    },
    {
     "name": "stdout",
     "output_type": "stream",
     "text": [
      "\n",
      "Test set: Average loss: 0.0210, Test Accuracy: 9937/10000 (99.37%)\n",
      "\n",
      "EPOCH: 21\n"
     ]
    },
    {
     "name": "stderr",
     "output_type": "stream",
     "text": [
      "Loss=0.01743500679731369 Batch_id=468 Train Accuracy=99.28: 100%|██████████| 469/469 [00:14<00:00, 32.43it/s]\n",
      "  0%|          | 0/469 [00:00<?, ?it/s]"
     ]
    },
    {
     "name": "stdout",
     "output_type": "stream",
     "text": [
      "\n",
      "Test set: Average loss: 0.0211, Test Accuracy: 9936/10000 (99.36%)\n",
      "\n",
      "EPOCH: 22\n"
     ]
    },
    {
     "name": "stderr",
     "output_type": "stream",
     "text": [
      "Loss=0.04444103315472603 Batch_id=468 Train Accuracy=99.24: 100%|██████████| 469/469 [00:14<00:00, 32.29it/s]\n",
      "  0%|          | 0/469 [00:00<?, ?it/s]"
     ]
    },
    {
     "name": "stdout",
     "output_type": "stream",
     "text": [
      "\n",
      "Test set: Average loss: 0.0209, Test Accuracy: 9935/10000 (99.35%)\n",
      "\n",
      "EPOCH: 23\n"
     ]
    },
    {
     "name": "stderr",
     "output_type": "stream",
     "text": [
      "Loss=0.019306730479002 Batch_id=468 Train Accuracy=99.28: 100%|██████████| 469/469 [00:14<00:00, 32.25it/s]\n",
      "  0%|          | 0/469 [00:00<?, ?it/s]"
     ]
    },
    {
     "name": "stdout",
     "output_type": "stream",
     "text": [
      "\n",
      "Test set: Average loss: 0.0209, Test Accuracy: 9937/10000 (99.37%)\n",
      "\n",
      "EPOCH: 24\n"
     ]
    },
    {
     "name": "stderr",
     "output_type": "stream",
     "text": [
      "Loss=0.04035248979926109 Batch_id=468 Train Accuracy=99.19: 100%|██████████| 469/469 [00:14<00:00, 32.63it/s]\n",
      "  0%|          | 0/469 [00:00<?, ?it/s]"
     ]
    },
    {
     "name": "stdout",
     "output_type": "stream",
     "text": [
      "\n",
      "Test set: Average loss: 0.0214, Test Accuracy: 9935/10000 (99.35%)\n",
      "\n",
      "Maximum Test Accuracy for L1_L2_BN is 99.35\n",
      "=========================================================\n",
      "Model Name: ==================( GBN )==================\n",
      "EPOCH: 0\n"
     ]
    },
    {
     "name": "stderr",
     "output_type": "stream",
     "text": [
      "Loss=0.03145066648721695 Batch_id=468 Train Accuracy=93.30: 100%|██████████| 469/469 [00:13<00:00, 34.31it/s]\n",
      "  0%|          | 0/469 [00:00<?, ?it/s]"
     ]
    },
    {
     "name": "stdout",
     "output_type": "stream",
     "text": [
      "\n",
      "Test set: Average loss: 0.0738, Test Accuracy: 9765/10000 (97.65%)\n",
      "\n",
      "EPOCH: 1\n"
     ]
    },
    {
     "name": "stderr",
     "output_type": "stream",
     "text": [
      "Loss=0.0409918837249279 Batch_id=468 Train Accuracy=97.85: 100%|██████████| 469/469 [00:13<00:00, 34.53it/s]\n",
      "  0%|          | 0/469 [00:00<?, ?it/s]"
     ]
    },
    {
     "name": "stdout",
     "output_type": "stream",
     "text": [
      "\n",
      "Test set: Average loss: 0.0444, Test Accuracy: 9865/10000 (98.65%)\n",
      "\n",
      "EPOCH: 2\n"
     ]
    },
    {
     "name": "stderr",
     "output_type": "stream",
     "text": [
      "Loss=0.042504992336034775 Batch_id=468 Train Accuracy=98.23: 100%|██████████| 469/469 [00:13<00:00, 34.36it/s]\n",
      "  0%|          | 0/469 [00:00<?, ?it/s]"
     ]
    },
    {
     "name": "stdout",
     "output_type": "stream",
     "text": [
      "\n",
      "Test set: Average loss: 0.0338, Test Accuracy: 9894/10000 (98.94%)\n",
      "\n",
      "EPOCH: 3\n"
     ]
    },
    {
     "name": "stderr",
     "output_type": "stream",
     "text": [
      "Loss=0.014129296876490116 Batch_id=468 Train Accuracy=98.40: 100%|██████████| 469/469 [00:13<00:00, 34.76it/s]\n",
      "  0%|          | 0/469 [00:00<?, ?it/s]"
     ]
    },
    {
     "name": "stdout",
     "output_type": "stream",
     "text": [
      "\n",
      "Test set: Average loss: 0.0375, Test Accuracy: 9883/10000 (98.83%)\n",
      "\n",
      "EPOCH: 4\n"
     ]
    },
    {
     "name": "stderr",
     "output_type": "stream",
     "text": [
      "Loss=0.03839313983917236 Batch_id=468 Train Accuracy=98.60: 100%|██████████| 469/469 [00:13<00:00, 34.51it/s]\n",
      "  0%|          | 0/469 [00:00<?, ?it/s]"
     ]
    },
    {
     "name": "stdout",
     "output_type": "stream",
     "text": [
      "\n",
      "Test set: Average loss: 0.0298, Test Accuracy: 9897/10000 (98.97%)\n",
      "\n",
      "EPOCH: 5\n"
     ]
    },
    {
     "name": "stderr",
     "output_type": "stream",
     "text": [
      "Loss=0.0427175909280777 Batch_id=468 Train Accuracy=98.90: 100%|██████████| 469/469 [00:13<00:00, 34.98it/s]\n",
      "  0%|          | 0/469 [00:00<?, ?it/s]"
     ]
    },
    {
     "name": "stdout",
     "output_type": "stream",
     "text": [
      "\n",
      "Test set: Average loss: 0.0210, Test Accuracy: 9929/10000 (99.29%)\n",
      "\n",
      "EPOCH: 6\n"
     ]
    },
    {
     "name": "stderr",
     "output_type": "stream",
     "text": [
      "Loss=0.01611347496509552 Batch_id=468 Train Accuracy=99.02: 100%|██████████| 469/469 [00:13<00:00, 34.74it/s]\n",
      "  0%|          | 0/469 [00:00<?, ?it/s]"
     ]
    },
    {
     "name": "stdout",
     "output_type": "stream",
     "text": [
      "\n",
      "Test set: Average loss: 0.0209, Test Accuracy: 9937/10000 (99.37%)\n",
      "\n",
      "EPOCH: 7\n"
     ]
    },
    {
     "name": "stderr",
     "output_type": "stream",
     "text": [
      "Loss=0.1758679747581482 Batch_id=468 Train Accuracy=99.04: 100%|██████████| 469/469 [00:13<00:00, 35.00it/s]\n",
      "  0%|          | 0/469 [00:00<?, ?it/s]"
     ]
    },
    {
     "name": "stdout",
     "output_type": "stream",
     "text": [
      "\n",
      "Test set: Average loss: 0.0204, Test Accuracy: 9926/10000 (99.26%)\n",
      "\n",
      "EPOCH: 8\n"
     ]
    },
    {
     "name": "stderr",
     "output_type": "stream",
     "text": [
      "Loss=0.07302474230527878 Batch_id=468 Train Accuracy=99.04: 100%|██████████| 469/469 [00:13<00:00, 34.76it/s]\n",
      "  0%|          | 0/469 [00:00<?, ?it/s]"
     ]
    },
    {
     "name": "stdout",
     "output_type": "stream",
     "text": [
      "\n",
      "Test set: Average loss: 0.0214, Test Accuracy: 9927/10000 (99.27%)\n",
      "\n",
      "EPOCH: 9\n"
     ]
    },
    {
     "name": "stderr",
     "output_type": "stream",
     "text": [
      "Loss=0.024925917387008667 Batch_id=468 Train Accuracy=99.08: 100%|██████████| 469/469 [00:13<00:00, 34.94it/s]\n",
      "  0%|          | 0/469 [00:00<?, ?it/s]"
     ]
    },
    {
     "name": "stdout",
     "output_type": "stream",
     "text": [
      "\n",
      "Test set: Average loss: 0.0199, Test Accuracy: 9932/10000 (99.32%)\n",
      "\n",
      "EPOCH: 10\n"
     ]
    },
    {
     "name": "stderr",
     "output_type": "stream",
     "text": [
      "Loss=0.09875983744859695 Batch_id=468 Train Accuracy=99.07: 100%|██████████| 469/469 [00:13<00:00, 34.18it/s]\n",
      "  0%|          | 0/469 [00:00<?, ?it/s]"
     ]
    },
    {
     "name": "stdout",
     "output_type": "stream",
     "text": [
      "\n",
      "Test set: Average loss: 0.0203, Test Accuracy: 9937/10000 (99.37%)\n",
      "\n",
      "EPOCH: 11\n"
     ]
    },
    {
     "name": "stderr",
     "output_type": "stream",
     "text": [
      "Loss=0.01789158396422863 Batch_id=468 Train Accuracy=99.11: 100%|██████████| 469/469 [00:13<00:00, 34.24it/s]\n",
      "  0%|          | 0/469 [00:00<?, ?it/s]"
     ]
    },
    {
     "name": "stdout",
     "output_type": "stream",
     "text": [
      "\n",
      "Test set: Average loss: 0.0198, Test Accuracy: 9936/10000 (99.36%)\n",
      "\n",
      "EPOCH: 12\n"
     ]
    },
    {
     "name": "stderr",
     "output_type": "stream",
     "text": [
      "Loss=0.0026110305916517973 Batch_id=468 Train Accuracy=99.08: 100%|██████████| 469/469 [00:13<00:00, 34.72it/s]\n",
      "  0%|          | 0/469 [00:00<?, ?it/s]"
     ]
    },
    {
     "name": "stdout",
     "output_type": "stream",
     "text": [
      "\n",
      "Test set: Average loss: 0.0200, Test Accuracy: 9935/10000 (99.35%)\n",
      "\n",
      "EPOCH: 13\n"
     ]
    },
    {
     "name": "stderr",
     "output_type": "stream",
     "text": [
      "Loss=0.03000783361494541 Batch_id=468 Train Accuracy=99.13: 100%|██████████| 469/469 [00:13<00:00, 34.69it/s]\n",
      "  0%|          | 0/469 [00:00<?, ?it/s]"
     ]
    },
    {
     "name": "stdout",
     "output_type": "stream",
     "text": [
      "\n",
      "Test set: Average loss: 0.0194, Test Accuracy: 9935/10000 (99.35%)\n",
      "\n",
      "EPOCH: 14\n"
     ]
    },
    {
     "name": "stderr",
     "output_type": "stream",
     "text": [
      "Loss=0.0318879671394825 Batch_id=468 Train Accuracy=99.12: 100%|██████████| 469/469 [00:13<00:00, 34.63it/s]\n",
      "  0%|          | 0/469 [00:00<?, ?it/s]"
     ]
    },
    {
     "name": "stdout",
     "output_type": "stream",
     "text": [
      "\n",
      "Test set: Average loss: 0.0198, Test Accuracy: 9936/10000 (99.36%)\n",
      "\n",
      "EPOCH: 15\n"
     ]
    },
    {
     "name": "stderr",
     "output_type": "stream",
     "text": [
      "Loss=0.027034802362322807 Batch_id=468 Train Accuracy=99.13: 100%|██████████| 469/469 [00:13<00:00, 34.91it/s]\n",
      "  0%|          | 0/469 [00:00<?, ?it/s]"
     ]
    },
    {
     "name": "stdout",
     "output_type": "stream",
     "text": [
      "\n",
      "Test set: Average loss: 0.0198, Test Accuracy: 9935/10000 (99.35%)\n",
      "\n",
      "EPOCH: 16\n"
     ]
    },
    {
     "name": "stderr",
     "output_type": "stream",
     "text": [
      "Loss=0.012785851024091244 Batch_id=468 Train Accuracy=99.13: 100%|██████████| 469/469 [00:13<00:00, 34.53it/s]\n",
      "  0%|          | 0/469 [00:00<?, ?it/s]"
     ]
    },
    {
     "name": "stdout",
     "output_type": "stream",
     "text": [
      "\n",
      "Test set: Average loss: 0.0198, Test Accuracy: 9938/10000 (99.38%)\n",
      "\n",
      "EPOCH: 17\n"
     ]
    },
    {
     "name": "stderr",
     "output_type": "stream",
     "text": [
      "Loss=0.039887458086013794 Batch_id=468 Train Accuracy=99.16: 100%|██████████| 469/469 [00:13<00:00, 35.18it/s]\n",
      "  0%|          | 0/469 [00:00<?, ?it/s]"
     ]
    },
    {
     "name": "stdout",
     "output_type": "stream",
     "text": [
      "\n",
      "Test set: Average loss: 0.0198, Test Accuracy: 9937/10000 (99.37%)\n",
      "\n",
      "EPOCH: 18\n"
     ]
    },
    {
     "name": "stderr",
     "output_type": "stream",
     "text": [
      "Loss=0.026338612660765648 Batch_id=468 Train Accuracy=99.14: 100%|██████████| 469/469 [00:13<00:00, 34.36it/s]\n",
      "  0%|          | 0/469 [00:00<?, ?it/s]"
     ]
    },
    {
     "name": "stdout",
     "output_type": "stream",
     "text": [
      "\n",
      "Test set: Average loss: 0.0195, Test Accuracy: 9935/10000 (99.35%)\n",
      "\n",
      "EPOCH: 19\n"
     ]
    },
    {
     "name": "stderr",
     "output_type": "stream",
     "text": [
      "Loss=0.0062735010869801044 Batch_id=468 Train Accuracy=99.09: 100%|██████████| 469/469 [00:13<00:00, 34.95it/s]\n",
      "  0%|          | 0/469 [00:00<?, ?it/s]"
     ]
    },
    {
     "name": "stdout",
     "output_type": "stream",
     "text": [
      "\n",
      "Test set: Average loss: 0.0200, Test Accuracy: 9934/10000 (99.34%)\n",
      "\n",
      "EPOCH: 20\n"
     ]
    },
    {
     "name": "stderr",
     "output_type": "stream",
     "text": [
      "Loss=0.014170133508741856 Batch_id=468 Train Accuracy=99.10: 100%|██████████| 469/469 [00:13<00:00, 34.99it/s]\n",
      "  0%|          | 0/469 [00:00<?, ?it/s]"
     ]
    },
    {
     "name": "stdout",
     "output_type": "stream",
     "text": [
      "\n",
      "Test set: Average loss: 0.0195, Test Accuracy: 9937/10000 (99.37%)\n",
      "\n",
      "EPOCH: 21\n"
     ]
    },
    {
     "name": "stderr",
     "output_type": "stream",
     "text": [
      "Loss=0.05491475760936737 Batch_id=468 Train Accuracy=99.09: 100%|██████████| 469/469 [00:13<00:00, 35.07it/s]\n",
      "  0%|          | 0/469 [00:00<?, ?it/s]"
     ]
    },
    {
     "name": "stdout",
     "output_type": "stream",
     "text": [
      "\n",
      "Test set: Average loss: 0.0197, Test Accuracy: 9934/10000 (99.34%)\n",
      "\n",
      "EPOCH: 22\n"
     ]
    },
    {
     "name": "stderr",
     "output_type": "stream",
     "text": [
      "Loss=0.015612327493727207 Batch_id=468 Train Accuracy=99.12: 100%|██████████| 469/469 [00:13<00:00, 34.85it/s]\n",
      "  0%|          | 0/469 [00:00<?, ?it/s]"
     ]
    },
    {
     "name": "stdout",
     "output_type": "stream",
     "text": [
      "\n",
      "Test set: Average loss: 0.0195, Test Accuracy: 9937/10000 (99.37%)\n",
      "\n",
      "EPOCH: 23\n"
     ]
    },
    {
     "name": "stderr",
     "output_type": "stream",
     "text": [
      "Loss=0.02007676102221012 Batch_id=468 Train Accuracy=99.16: 100%|██████████| 469/469 [00:13<00:00, 35.11it/s]\n",
      "  0%|          | 0/469 [00:00<?, ?it/s]"
     ]
    },
    {
     "name": "stdout",
     "output_type": "stream",
     "text": [
      "\n",
      "Test set: Average loss: 0.0197, Test Accuracy: 9936/10000 (99.36%)\n",
      "\n",
      "EPOCH: 24\n"
     ]
    },
    {
     "name": "stderr",
     "output_type": "stream",
     "text": [
      "Loss=0.006040679756551981 Batch_id=468 Train Accuracy=99.15: 100%|██████████| 469/469 [00:13<00:00, 34.92it/s]\n",
      "  0%|          | 0/469 [00:00<?, ?it/s]"
     ]
    },
    {
     "name": "stdout",
     "output_type": "stream",
     "text": [
      "\n",
      "Test set: Average loss: 0.0193, Test Accuracy: 9938/10000 (99.38%)\n",
      "\n",
      "Maximum Test Accuracy for GBN is 99.38\n",
      "=========================================================\n",
      "Model Name: ==================( L1_L2_GBN )==================\n",
      "EPOCH: 0\n"
     ]
    },
    {
     "name": "stderr",
     "output_type": "stream",
     "text": [
      "Loss=0.12012971192598343 Batch_id=468 Train Accuracy=93.11: 100%|██████████| 469/469 [00:14<00:00, 32.87it/s]\n",
      "  0%|          | 0/469 [00:00<?, ?it/s]"
     ]
    },
    {
     "name": "stdout",
     "output_type": "stream",
     "text": [
      "\n",
      "Test set: Average loss: 0.0667, Test Accuracy: 9779/10000 (97.79%)\n",
      "\n",
      "EPOCH: 1\n"
     ]
    },
    {
     "name": "stderr",
     "output_type": "stream",
     "text": [
      "Loss=0.03658744692802429 Batch_id=468 Train Accuracy=98.01: 100%|██████████| 469/469 [00:14<00:00, 32.69it/s]\n",
      "  0%|          | 0/469 [00:00<?, ?it/s]"
     ]
    },
    {
     "name": "stdout",
     "output_type": "stream",
     "text": [
      "\n",
      "Test set: Average loss: 0.0634, Test Accuracy: 9797/10000 (97.97%)\n",
      "\n",
      "EPOCH: 2\n"
     ]
    },
    {
     "name": "stderr",
     "output_type": "stream",
     "text": [
      "Loss=0.07518574595451355 Batch_id=468 Train Accuracy=98.35: 100%|██████████| 469/469 [00:14<00:00, 33.00it/s]\n",
      "  0%|          | 0/469 [00:00<?, ?it/s]"
     ]
    },
    {
     "name": "stdout",
     "output_type": "stream",
     "text": [
      "\n",
      "Test set: Average loss: 0.0331, Test Accuracy: 9895/10000 (98.95%)\n",
      "\n",
      "EPOCH: 3\n"
     ]
    },
    {
     "name": "stderr",
     "output_type": "stream",
     "text": [
      "Loss=0.10180249810218811 Batch_id=468 Train Accuracy=98.55: 100%|██████████| 469/469 [00:14<00:00, 32.87it/s]\n",
      "  0%|          | 0/469 [00:00<?, ?it/s]"
     ]
    },
    {
     "name": "stdout",
     "output_type": "stream",
     "text": [
      "\n",
      "Test set: Average loss: 0.0421, Test Accuracy: 9876/10000 (98.76%)\n",
      "\n",
      "EPOCH: 4\n"
     ]
    },
    {
     "name": "stderr",
     "output_type": "stream",
     "text": [
      "Loss=0.11680508404970169 Batch_id=468 Train Accuracy=98.61: 100%|██████████| 469/469 [00:14<00:00, 32.67it/s]\n",
      "  0%|          | 0/469 [00:00<?, ?it/s]"
     ]
    },
    {
     "name": "stdout",
     "output_type": "stream",
     "text": [
      "\n",
      "Test set: Average loss: 0.0411, Test Accuracy: 9866/10000 (98.66%)\n",
      "\n",
      "EPOCH: 5\n"
     ]
    },
    {
     "name": "stderr",
     "output_type": "stream",
     "text": [
      "Loss=0.08619893342256546 Batch_id=468 Train Accuracy=99.02: 100%|██████████| 469/469 [00:14<00:00, 32.14it/s]\n",
      "  0%|          | 0/469 [00:00<?, ?it/s]"
     ]
    },
    {
     "name": "stdout",
     "output_type": "stream",
     "text": [
      "\n",
      "Test set: Average loss: 0.0227, Test Accuracy: 9930/10000 (99.30%)\n",
      "\n",
      "EPOCH: 6\n"
     ]
    },
    {
     "name": "stderr",
     "output_type": "stream",
     "text": [
      "Loss=0.07696457207202911 Batch_id=468 Train Accuracy=99.10: 100%|██████████| 469/469 [00:14<00:00, 32.93it/s]\n",
      "  0%|          | 0/469 [00:00<?, ?it/s]"
     ]
    },
    {
     "name": "stdout",
     "output_type": "stream",
     "text": [
      "\n",
      "Test set: Average loss: 0.0216, Test Accuracy: 9928/10000 (99.28%)\n",
      "\n",
      "EPOCH: 7\n"
     ]
    },
    {
     "name": "stderr",
     "output_type": "stream",
     "text": [
      "Loss=0.034703973680734634 Batch_id=468 Train Accuracy=99.13: 100%|██████████| 469/469 [00:14<00:00, 32.72it/s]\n",
      "  0%|          | 0/469 [00:00<?, ?it/s]"
     ]
    },
    {
     "name": "stdout",
     "output_type": "stream",
     "text": [
      "\n",
      "Test set: Average loss: 0.0214, Test Accuracy: 9927/10000 (99.27%)\n",
      "\n",
      "EPOCH: 8\n"
     ]
    },
    {
     "name": "stderr",
     "output_type": "stream",
     "text": [
      "Loss=0.06076483428478241 Batch_id=468 Train Accuracy=99.14: 100%|██████████| 469/469 [00:14<00:00, 32.97it/s]\n",
      "  0%|          | 0/469 [00:00<?, ?it/s]"
     ]
    },
    {
     "name": "stdout",
     "output_type": "stream",
     "text": [
      "\n",
      "Test set: Average loss: 0.0224, Test Accuracy: 9927/10000 (99.27%)\n",
      "\n",
      "EPOCH: 9\n"
     ]
    },
    {
     "name": "stderr",
     "output_type": "stream",
     "text": [
      "Loss=0.02866967022418976 Batch_id=468 Train Accuracy=99.15: 100%|██████████| 469/469 [00:14<00:00, 32.90it/s]\n",
      "  0%|          | 0/469 [00:00<?, ?it/s]"
     ]
    },
    {
     "name": "stdout",
     "output_type": "stream",
     "text": [
      "\n",
      "Test set: Average loss: 0.0217, Test Accuracy: 9932/10000 (99.32%)\n",
      "\n",
      "EPOCH: 10\n"
     ]
    },
    {
     "name": "stderr",
     "output_type": "stream",
     "text": [
      "Loss=0.10062162578105927 Batch_id=468 Train Accuracy=99.19: 100%|██████████| 469/469 [00:14<00:00, 33.21it/s]\n",
      "  0%|          | 0/469 [00:00<?, ?it/s]"
     ]
    },
    {
     "name": "stdout",
     "output_type": "stream",
     "text": [
      "\n",
      "Test set: Average loss: 0.0213, Test Accuracy: 9932/10000 (99.32%)\n",
      "\n",
      "EPOCH: 11\n"
     ]
    },
    {
     "name": "stderr",
     "output_type": "stream",
     "text": [
      "Loss=0.027078937739133835 Batch_id=468 Train Accuracy=99.17: 100%|██████████| 469/469 [00:14<00:00, 32.77it/s]\n",
      "  0%|          | 0/469 [00:00<?, ?it/s]"
     ]
    },
    {
     "name": "stdout",
     "output_type": "stream",
     "text": [
      "\n",
      "Test set: Average loss: 0.0210, Test Accuracy: 9932/10000 (99.32%)\n",
      "\n",
      "EPOCH: 12\n"
     ]
    },
    {
     "name": "stderr",
     "output_type": "stream",
     "text": [
      "Loss=0.022440345957875252 Batch_id=468 Train Accuracy=99.22: 100%|██████████| 469/469 [00:14<00:00, 32.26it/s]\n",
      "  0%|          | 0/469 [00:00<?, ?it/s]"
     ]
    },
    {
     "name": "stdout",
     "output_type": "stream",
     "text": [
      "\n",
      "Test set: Average loss: 0.0214, Test Accuracy: 9929/10000 (99.29%)\n",
      "\n",
      "EPOCH: 13\n"
     ]
    },
    {
     "name": "stderr",
     "output_type": "stream",
     "text": [
      "Loss=0.021843094378709793 Batch_id=468 Train Accuracy=99.24: 100%|██████████| 469/469 [00:14<00:00, 32.98it/s]\n",
      "  0%|          | 0/469 [00:00<?, ?it/s]"
     ]
    },
    {
     "name": "stdout",
     "output_type": "stream",
     "text": [
      "\n",
      "Test set: Average loss: 0.0206, Test Accuracy: 9936/10000 (99.36%)\n",
      "\n",
      "EPOCH: 14\n"
     ]
    },
    {
     "name": "stderr",
     "output_type": "stream",
     "text": [
      "Loss=0.02519218996167183 Batch_id=468 Train Accuracy=99.21: 100%|██████████| 469/469 [00:14<00:00, 32.92it/s]\n",
      "  0%|          | 0/469 [00:00<?, ?it/s]"
     ]
    },
    {
     "name": "stdout",
     "output_type": "stream",
     "text": [
      "\n",
      "Test set: Average loss: 0.0205, Test Accuracy: 9933/10000 (99.33%)\n",
      "\n",
      "EPOCH: 15\n"
     ]
    },
    {
     "name": "stderr",
     "output_type": "stream",
     "text": [
      "Loss=0.018105577677488327 Batch_id=468 Train Accuracy=99.17: 100%|██████████| 469/469 [00:14<00:00, 32.92it/s]\n",
      "  0%|          | 0/469 [00:00<?, ?it/s]"
     ]
    },
    {
     "name": "stdout",
     "output_type": "stream",
     "text": [
      "\n",
      "Test set: Average loss: 0.0206, Test Accuracy: 9935/10000 (99.35%)\n",
      "\n",
      "EPOCH: 16\n"
     ]
    },
    {
     "name": "stderr",
     "output_type": "stream",
     "text": [
      "Loss=0.059943221509456635 Batch_id=468 Train Accuracy=99.23: 100%|██████████| 469/469 [00:14<00:00, 32.93it/s]\n",
      "  0%|          | 0/469 [00:00<?, ?it/s]"
     ]
    },
    {
     "name": "stdout",
     "output_type": "stream",
     "text": [
      "\n",
      "Test set: Average loss: 0.0208, Test Accuracy: 9931/10000 (99.31%)\n",
      "\n",
      "EPOCH: 17\n"
     ]
    },
    {
     "name": "stderr",
     "output_type": "stream",
     "text": [
      "Loss=0.025458425283432007 Batch_id=468 Train Accuracy=99.25: 100%|██████████| 469/469 [00:14<00:00, 32.77it/s]\n",
      "  0%|          | 0/469 [00:00<?, ?it/s]"
     ]
    },
    {
     "name": "stdout",
     "output_type": "stream",
     "text": [
      "\n",
      "Test set: Average loss: 0.0210, Test Accuracy: 9931/10000 (99.31%)\n",
      "\n",
      "EPOCH: 18\n"
     ]
    },
    {
     "name": "stderr",
     "output_type": "stream",
     "text": [
      "Loss=0.023774005472660065 Batch_id=468 Train Accuracy=99.22: 100%|██████████| 469/469 [00:14<00:00, 32.62it/s]\n",
      "  0%|          | 0/469 [00:00<?, ?it/s]"
     ]
    },
    {
     "name": "stdout",
     "output_type": "stream",
     "text": [
      "\n",
      "Test set: Average loss: 0.0212, Test Accuracy: 9932/10000 (99.32%)\n",
      "\n",
      "EPOCH: 19\n"
     ]
    },
    {
     "name": "stderr",
     "output_type": "stream",
     "text": [
      "Loss=0.01729225181043148 Batch_id=468 Train Accuracy=99.23: 100%|██████████| 469/469 [00:14<00:00, 32.91it/s]\n",
      "  0%|          | 0/469 [00:00<?, ?it/s]"
     ]
    },
    {
     "name": "stdout",
     "output_type": "stream",
     "text": [
      "\n",
      "Test set: Average loss: 0.0208, Test Accuracy: 9934/10000 (99.34%)\n",
      "\n",
      "EPOCH: 20\n"
     ]
    },
    {
     "name": "stderr",
     "output_type": "stream",
     "text": [
      "Loss=0.042296402156353 Batch_id=468 Train Accuracy=99.22: 100%|██████████| 469/469 [00:14<00:00, 33.02it/s]\n",
      "  0%|          | 0/469 [00:00<?, ?it/s]"
     ]
    },
    {
     "name": "stdout",
     "output_type": "stream",
     "text": [
      "\n",
      "Test set: Average loss: 0.0206, Test Accuracy: 9934/10000 (99.34%)\n",
      "\n",
      "EPOCH: 21\n"
     ]
    },
    {
     "name": "stderr",
     "output_type": "stream",
     "text": [
      "Loss=0.0241415873169899 Batch_id=468 Train Accuracy=99.20: 100%|██████████| 469/469 [00:14<00:00, 33.00it/s]\n",
      "  0%|          | 0/469 [00:00<?, ?it/s]"
     ]
    },
    {
     "name": "stdout",
     "output_type": "stream",
     "text": [
      "\n",
      "Test set: Average loss: 0.0204, Test Accuracy: 9934/10000 (99.34%)\n",
      "\n",
      "EPOCH: 22\n"
     ]
    },
    {
     "name": "stderr",
     "output_type": "stream",
     "text": [
      "Loss=0.023718733340501785 Batch_id=468 Train Accuracy=99.22: 100%|██████████| 469/469 [00:14<00:00, 32.66it/s]\n",
      "  0%|          | 0/469 [00:00<?, ?it/s]"
     ]
    },
    {
     "name": "stdout",
     "output_type": "stream",
     "text": [
      "\n",
      "Test set: Average loss: 0.0210, Test Accuracy: 9933/10000 (99.33%)\n",
      "\n",
      "EPOCH: 23\n"
     ]
    },
    {
     "name": "stderr",
     "output_type": "stream",
     "text": [
      "Loss=0.02740473859012127 Batch_id=468 Train Accuracy=99.20: 100%|██████████| 469/469 [00:14<00:00, 32.96it/s]\n",
      "  0%|          | 0/469 [00:00<?, ?it/s]"
     ]
    },
    {
     "name": "stdout",
     "output_type": "stream",
     "text": [
      "\n",
      "Test set: Average loss: 0.0206, Test Accuracy: 9934/10000 (99.34%)\n",
      "\n",
      "EPOCH: 24\n"
     ]
    },
    {
     "name": "stderr",
     "output_type": "stream",
     "text": [
      "Loss=0.01914115436375141 Batch_id=468 Train Accuracy=99.23: 100%|██████████| 469/469 [00:14<00:00, 32.42it/s]\n"
     ]
    },
    {
     "name": "stdout",
     "output_type": "stream",
     "text": [
      "\n",
      "Test set: Average loss: 0.0206, Test Accuracy: 9934/10000 (99.34%)\n",
      "\n",
      "Maximum Test Accuracy for L1_L2_GBN is 99.34\n",
      "=========================================================\n"
     ]
    }
   ],
   "source": [
    "from torch.optim.lr_scheduler import StepLR\n",
    "\n",
    "# model =  Net().to(device)\n",
    "# optimizer = optim.SGD(model.parameters(), lr=0.1, momentum=0.9)\n",
    "# scheduler = StepLR(optimizer, step_size=5, gamma=0.1)\n",
    "\n",
    "try:\n",
    "  with open(base_folder+acc_recorder_file, \"r\") as infl:\n",
    "      max_acc = float(infl.read().strip())\n",
    "except:\n",
    "  max_acc = 0.0\n",
    "\n",
    "model_dict = {0:'L1_BN', 1:'L2_BN', 2:'L1_L2_BN', 3:'GBN', 4:'L1_L2_GBN'}\n",
    "tr_ls_dict = {0:[], 1:[], 2:[], 3:[], 4:[]}\n",
    "ts_ls_dict = {0:[], 1:[], 2:[], 3:[], 4:[]}\n",
    "tr_acc_dict = {0:[], 1:[], 2:[], 3:[], 4:[]}\n",
    "ts_acc_dict = {0:[], 1:[], 2:[], 3:[], 4:[]}\n",
    "\n",
    "MODELS = 5\n",
    "for m_num in range(MODELS):\n",
    "  train_losses = []\n",
    "  train_acc = []\n",
    "  test_losses = []\n",
    "  test_acc = []\n",
    "  max_acc = 0.0\n",
    "  if m_num in {3,4}:\n",
    "    model =  Net(is_gbn=True).to(device)\n",
    "  else:  \n",
    "    model =  Net().to(device)\n",
    "  if m_num in {1,2,4}: # Apply L2 Norm\n",
    "    optimizer = optim.SGD(model.parameters(), lr=0.1, momentum=0.9,weight_decay=1e-4)\n",
    "    scheduler = StepLR(optimizer, step_size=5, gamma=0.1)\n",
    "  else: \n",
    "    optimizer = optim.SGD(model.parameters(), lr=0.1, momentum=0.9)\n",
    "    scheduler = StepLR(optimizer, step_size=5, gamma=0.1)\n",
    "  print(f'Model Name: ==================( {model_dict[m_num]} )==================')\n",
    "  EPOCHS = 25\n",
    "  for epoch in range(EPOCHS):\n",
    "    print(\"EPOCH:\", epoch)\n",
    "    tr_loss, tr_acc, tr_ls_dict[m_num], tr_acc_dict[m_num] = train(model, device, train_loader, optimizer, epoch, m_num, lambda_l1=1e-5)\n",
    "      \n",
    "    scheduler.step()\n",
    "    tst_loss, tst_acc, ts_ls_dict[m_num], ts_acc_dict[m_num] = test(model, device, test_loader)\n",
    "\n",
    "    if m_num == 3 and tst_acc > max_acc: # Store GBN Model\n",
    "      max_acc = tst_acc\n",
    "      torch.save(model.state_dict(), base_folder+model_file_name+model_dict[m_num]+\"_sd.pth\")\n",
    "      record_max_acc(max_acc)\n",
    "\n",
    "  print(f'Maximum Test Accuracy for {model_dict[m_num]} is {tst_acc}')\n",
    "  print('=========================================================')\n"
   ]
  },
  {
   "cell_type": "markdown",
   "metadata": {
    "colab_type": "text",
    "id": "9BJsoJXJpyOY"
   },
   "source": [
    "# Graph to show the validation accuracies and loss change curves for all 5 Models"
   ]
  },
  {
   "cell_type": "code",
   "execution_count": 17,
   "metadata": {
    "colab": {
     "base_uri": "https://localhost:8080/",
     "height": 953
    },
    "colab_type": "code",
    "id": "4vRnRY0rgYYC",
    "outputId": "2cbb7422-9443-4292-a857-2068308db7af"
   },
   "outputs": [
    {
     "data": {
      "image/png": "[encoded data removed]",
      "text/plain": [
       "<Figure size 2160x1440 with 4 Axes>"
      ]
     },
     "metadata": {
      "tags": []
     },
     "output_type": "display_data"
    }
   ],
   "source": [
    "plt.style.use('ggplot')\n",
    "\n",
    "fig, axs = plt.subplots(2,2,figsize=(30,20))\n",
    "for m_num in range(MODELS):\n",
    "  axs[0, 0].plot(tr_ls_dict[m_num],label=model_dict[m_num] )\n",
    "  axs[0, 0].legend(loc=\"upper right\")\n",
    "  axs[0, 0].set_title(\"Training Loss\")\n",
    "  axs[1, 0].plot(tr_acc_dict[m_num],label=model_dict[m_num])\n",
    "  axs[1, 0].legend(loc=\"lower right\")\n",
    "  axs[1, 0].set_title(\"Training Accuracy\")\n",
    "  axs[0, 1].plot(ts_ls_dict[m_num],label=model_dict[m_num])\n",
    "  axs[0, 1].legend(loc=\"upper right\")\n",
    "  axs[0, 1].set_title(\"Test Loss\")\n",
    "  axs[1, 1].plot(ts_acc_dict[m_num],label=model_dict[m_num])\n",
    "  axs[1, 1].legend(loc=\"lower right\")\n",
    "  axs[1, 1].set_title(\"Test Accuracy\")"
   ]
  },
  {
   "cell_type": "markdown",
   "metadata": {
    "colab_type": "text",
    "id": "iRk1bDOq3b-B"
   },
   "source": [
    "# Check for incorrectly classified images"
   ]
  },
  {
   "cell_type": "code",
   "execution_count": 13,
   "metadata": {
    "colab": {},
    "colab_type": "code",
    "id": "dGeX_bVpdMVE"
   },
   "outputs": [],
   "source": [
    "l1_model = Net(is_gbn=True)\n",
    "model_file_name = 'l1_norm'\n",
    "l1_model.load_state_dict(torch.load(base_folder+model_file_name+\"GBN_sd.pth\")) # Load GBN Model\n",
    "\n",
    "imgs = []\n",
    "labels = []\n",
    "preds = []\n",
    "for img, target in test_loader:\n",
    "  imgs.append( img )\n",
    "  labels.append( target )\n",
    "  preds.append( torch.argmax(l1_model(img), dim=1) )\n",
    "\n",
    "imgs = torch.cat(imgs, dim=0)\n",
    "labels = torch.cat(labels, dim=0)\n",
    "preds = torch.cat(preds, dim=0)\n",
    "\n",
    "matches = preds.eq(labels)"
   ]
  },
  {
   "cell_type": "code",
   "execution_count": 14,
   "metadata": {
    "colab": {
     "base_uri": "https://localhost:8080/",
     "height": 35
    },
    "colab_type": "code",
    "id": "4u7HEQmh21RR",
    "outputId": "df1740eb-6095-4411-832d-ab4a592c1d18"
   },
   "outputs": [
    {
     "name": "stdout",
     "output_type": "stream",
     "text": [
      "'drive/My Drive/eva5_stored_from_colab/s6/l1_normGBN_sd.pth'\n"
     ]
    }
   ],
   "source": [
    "!ls drive/'My Drive'/eva5_stored_from_colab/s6/l1_normGBN_sd.pth"
   ]
  },
  {
   "cell_type": "code",
   "execution_count": 15,
   "metadata": {
    "colab": {},
    "colab_type": "code",
    "id": "zFlDqBu-dUl4"
   },
   "outputs": [],
   "source": [
    "def create_plot_pos(nrows, ncols):\n",
    "  num_images = nrows * ncols\n",
    "  positions = []\n",
    "  for r in range(num_images):\n",
    "    row = r // ncols\n",
    "    col = r % ncols\n",
    "    positions.append((row, col))\n",
    "  return positions"
   ]
  },
  {
   "cell_type": "code",
   "execution_count": 16,
   "metadata": {
    "colab": {
     "base_uri": "https://localhost:8080/",
     "height": 592
    },
    "colab_type": "code",
    "id": "cqZUjU2y3pwW",
    "outputId": "4c438baf-494f-4edf-c7fa-be8251b79747"
   },
   "outputs": [
    {
     "data": {
      "image/png": "[encoded data removed]",
      "text/plain": [
       "<Figure size 1080x720 with 25 Axes>"
      ]
     },
     "metadata": {
      "tags": []
     },
     "output_type": "display_data"
    }
   ],
   "source": [
    "idx = 0\n",
    "nrows = 5\n",
    "ncols = 5\n",
    "skip = 25\n",
    "\n",
    "total_imgs = nrows*ncols\n",
    "pos = create_plot_pos(5, 5)\n",
    "\n",
    "fig, axes = plt.subplots(nrows=5, ncols=5, figsize=(15, 10), sharex=True, sharey=True)\n",
    "\n",
    "idx = 0\n",
    "posidx = 0\n",
    "total_skipped = 0\n",
    "for m in matches:\n",
    "  if posidx > total_imgs-1:\n",
    "    break\n",
    "\n",
    "  if not m:\n",
    "    if total_skipped <= skip:\n",
    "      total_skipped += 1\n",
    "      idx += 1\n",
    "      continue\n",
    "\n",
    "    img = imgs[idx].reshape(28,28)\n",
    "    title = \"Act: \" + str(labels[idx].item()) + \", Pred: \" + str(preds[idx].item())\n",
    "    chart_pos = pos[posidx]\n",
    "    axes[chart_pos].imshow(img)\n",
    "    axes[chart_pos].set_title(title)\n",
    "    axes[chart_pos].axis(\"off\")\n",
    "\n",
    "    posidx += 1\n",
    "  \n",
    "  idx += 1\n"
   ]
  },
  {
   "cell_type": "code",
   "execution_count": 16,
   "metadata": {
    "colab": {},
    "colab_type": "code",
    "id": "ycXyZ2WxQG8h"
   },
   "outputs": [],
   "source": []
  }
 ],
 "metadata": {
  "accelerator": "GPU",
  "colab": {
   "collapsed_sections": [],
   "name": "EVA5_S6_NN_Regularization.ipynb",
   "provenance": []
  },
  "kernelspec": {
   "display_name": "Python 3",
   "language": "python",
   "name": "python3"
  },
  "language_info": {
   "codemirror_mode": {
    "name": "ipython",
    "version": 3
   },
   "file_extension": ".py",
   "mimetype": "text/x-python",
   "name": "python",
   "nbconvert_exporter": "python",
   "pygments_lexer": "ipython3",
   "version": "3.7.7"
  },
  "toc": {
   "base_numbering": 1,
   "nav_menu": {},
   "number_sections": true,
   "sideBar": true,
   "skip_h1_title": false,
   "title_cell": "Table of Contents",
   "title_sidebar": "Contents",
   "toc_cell": false,
   "toc_position": {},
   "toc_section_display": true,
   "toc_window_display": false
  },
  "varInspector": {
   "cols": {
    "lenName": 16,
    "lenType": 16,
    "lenVar": 40
   },
   "kernels_config": {
    "python": {
     "delete_cmd_postfix": "",
     "delete_cmd_prefix": "del ",
     "library": "var_list.py",
     "varRefreshCmd": "print(var_dic_list())"
    },
    "r": {
     "delete_cmd_postfix": ") ",
     "delete_cmd_prefix": "rm(",
     "library": "var_list.r",
     "varRefreshCmd": "cat(var_dic_list()) "
    }
   },
   "types_to_exclude": [
    "module",
    "function",
    "builtin_function_or_method",
    "instance",
    "_Feature"
   ],
   "window_display": false
  }
 },
 "nbformat": 4,
 "nbformat_minor": 4
}
